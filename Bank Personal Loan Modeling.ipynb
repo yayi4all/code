{
 "cells": [
  {
   "cell_type": "markdown",
   "id": "775c7f6f-086c-470a-a94b-c956036c7323",
   "metadata": {},
   "source": [
    "### Bank_Personal_Loan_Modelling"
   ]
  },
  {
   "cell_type": "markdown",
   "id": "2526d6e0-8a06-460b-becc-b30946bae1af",
   "metadata": {},
   "source": [
    "Data Description:\n",
    "The file Bank.xls contains data on 5000 customers. The data include customer demographic information (age, income, etc.), the customer's relationship with the bank (mortgage, securities account, etc.), and the customer response to the last personal loan campaign (Personal Loan). Among these 5000 customers, only 480 (= 9.6%) accepted the personal loan that was offered to them in the earlier campaign.\n",
    "To know more about the dataset: https://www.kaggle.com/datasets/krantiswalke/bank-personal-loan-modelling?select=Bank_Personal_Loan_Modelling.csv"
   ]
  },
  {
   "cell_type": "code",
   "execution_count": 1,
   "id": "c7b82458-f053-4acd-9387-38cc59bf41ac",
   "metadata": {},
   "outputs": [],
   "source": [
    "import pandas as pd\n",
    "import numpy as np\n",
    "from sklearn.model_selection import train_test_split\n",
    "from sklearn.linear_model import LogisticRegression\n",
    "from sklearn.neighbors import KNeighborsClassifier\n",
    "from sklearn.naive_bayes import GaussianNB\n",
    "import matplotlib.pyplot as plt\n",
    "from sklearn.ensemble import RandomForestClassifier\n"
   ]
  },
  {
   "cell_type": "code",
   "execution_count": 2,
   "id": "17bff7d2-feb1-4351-8de5-17c5f7b985df",
   "metadata": {},
   "outputs": [],
   "source": [
    "df = pd.read_csv ('Data/Bank_Personal_Loan_Modelling.csv')"
   ]
  },
  {
   "cell_type": "code",
   "execution_count": 3,
   "id": "f3be15ce-66b1-4c3b-828d-0e9f840bc06e",
   "metadata": {},
   "outputs": [
    {
     "data": {
      "text/html": [
       "<div>\n",
       "<style scoped>\n",
       "    .dataframe tbody tr th:only-of-type {\n",
       "        vertical-align: middle;\n",
       "    }\n",
       "\n",
       "    .dataframe tbody tr th {\n",
       "        vertical-align: top;\n",
       "    }\n",
       "\n",
       "    .dataframe thead th {\n",
       "        text-align: right;\n",
       "    }\n",
       "</style>\n",
       "<table border=\"1\" class=\"dataframe\">\n",
       "  <thead>\n",
       "    <tr style=\"text-align: right;\">\n",
       "      <th></th>\n",
       "      <th>ID</th>\n",
       "      <th>Age</th>\n",
       "      <th>Experience</th>\n",
       "      <th>Income</th>\n",
       "      <th>ZIP Code</th>\n",
       "      <th>Family</th>\n",
       "      <th>CCAvg</th>\n",
       "      <th>Education</th>\n",
       "      <th>Mortgage</th>\n",
       "      <th>Personal Loan</th>\n",
       "      <th>Securities Account</th>\n",
       "      <th>CD Account</th>\n",
       "      <th>Online</th>\n",
       "      <th>CreditCard</th>\n",
       "    </tr>\n",
       "  </thead>\n",
       "  <tbody>\n",
       "    <tr>\n",
       "      <th>count</th>\n",
       "      <td>5000.000000</td>\n",
       "      <td>5000.000000</td>\n",
       "      <td>5000.000000</td>\n",
       "      <td>5000.000000</td>\n",
       "      <td>5000.000000</td>\n",
       "      <td>5000.000000</td>\n",
       "      <td>5000.000000</td>\n",
       "      <td>5000.000000</td>\n",
       "      <td>5000.000000</td>\n",
       "      <td>5000.000000</td>\n",
       "      <td>5000.000000</td>\n",
       "      <td>5000.00000</td>\n",
       "      <td>5000.000000</td>\n",
       "      <td>5000.000000</td>\n",
       "    </tr>\n",
       "    <tr>\n",
       "      <th>mean</th>\n",
       "      <td>2500.500000</td>\n",
       "      <td>45.338400</td>\n",
       "      <td>20.104600</td>\n",
       "      <td>73.774200</td>\n",
       "      <td>93152.503000</td>\n",
       "      <td>2.396400</td>\n",
       "      <td>1.937938</td>\n",
       "      <td>1.881000</td>\n",
       "      <td>56.498800</td>\n",
       "      <td>0.096000</td>\n",
       "      <td>0.104400</td>\n",
       "      <td>0.06040</td>\n",
       "      <td>0.596800</td>\n",
       "      <td>0.294000</td>\n",
       "    </tr>\n",
       "    <tr>\n",
       "      <th>std</th>\n",
       "      <td>1443.520003</td>\n",
       "      <td>11.463166</td>\n",
       "      <td>11.467954</td>\n",
       "      <td>46.033729</td>\n",
       "      <td>2121.852197</td>\n",
       "      <td>1.147663</td>\n",
       "      <td>1.747659</td>\n",
       "      <td>0.839869</td>\n",
       "      <td>101.713802</td>\n",
       "      <td>0.294621</td>\n",
       "      <td>0.305809</td>\n",
       "      <td>0.23825</td>\n",
       "      <td>0.490589</td>\n",
       "      <td>0.455637</td>\n",
       "    </tr>\n",
       "    <tr>\n",
       "      <th>min</th>\n",
       "      <td>1.000000</td>\n",
       "      <td>23.000000</td>\n",
       "      <td>-3.000000</td>\n",
       "      <td>8.000000</td>\n",
       "      <td>9307.000000</td>\n",
       "      <td>1.000000</td>\n",
       "      <td>0.000000</td>\n",
       "      <td>1.000000</td>\n",
       "      <td>0.000000</td>\n",
       "      <td>0.000000</td>\n",
       "      <td>0.000000</td>\n",
       "      <td>0.00000</td>\n",
       "      <td>0.000000</td>\n",
       "      <td>0.000000</td>\n",
       "    </tr>\n",
       "    <tr>\n",
       "      <th>25%</th>\n",
       "      <td>1250.750000</td>\n",
       "      <td>35.000000</td>\n",
       "      <td>10.000000</td>\n",
       "      <td>39.000000</td>\n",
       "      <td>91911.000000</td>\n",
       "      <td>1.000000</td>\n",
       "      <td>0.700000</td>\n",
       "      <td>1.000000</td>\n",
       "      <td>0.000000</td>\n",
       "      <td>0.000000</td>\n",
       "      <td>0.000000</td>\n",
       "      <td>0.00000</td>\n",
       "      <td>0.000000</td>\n",
       "      <td>0.000000</td>\n",
       "    </tr>\n",
       "    <tr>\n",
       "      <th>50%</th>\n",
       "      <td>2500.500000</td>\n",
       "      <td>45.000000</td>\n",
       "      <td>20.000000</td>\n",
       "      <td>64.000000</td>\n",
       "      <td>93437.000000</td>\n",
       "      <td>2.000000</td>\n",
       "      <td>1.500000</td>\n",
       "      <td>2.000000</td>\n",
       "      <td>0.000000</td>\n",
       "      <td>0.000000</td>\n",
       "      <td>0.000000</td>\n",
       "      <td>0.00000</td>\n",
       "      <td>1.000000</td>\n",
       "      <td>0.000000</td>\n",
       "    </tr>\n",
       "    <tr>\n",
       "      <th>75%</th>\n",
       "      <td>3750.250000</td>\n",
       "      <td>55.000000</td>\n",
       "      <td>30.000000</td>\n",
       "      <td>98.000000</td>\n",
       "      <td>94608.000000</td>\n",
       "      <td>3.000000</td>\n",
       "      <td>2.500000</td>\n",
       "      <td>3.000000</td>\n",
       "      <td>101.000000</td>\n",
       "      <td>0.000000</td>\n",
       "      <td>0.000000</td>\n",
       "      <td>0.00000</td>\n",
       "      <td>1.000000</td>\n",
       "      <td>1.000000</td>\n",
       "    </tr>\n",
       "    <tr>\n",
       "      <th>max</th>\n",
       "      <td>5000.000000</td>\n",
       "      <td>67.000000</td>\n",
       "      <td>43.000000</td>\n",
       "      <td>224.000000</td>\n",
       "      <td>96651.000000</td>\n",
       "      <td>4.000000</td>\n",
       "      <td>10.000000</td>\n",
       "      <td>3.000000</td>\n",
       "      <td>635.000000</td>\n",
       "      <td>1.000000</td>\n",
       "      <td>1.000000</td>\n",
       "      <td>1.00000</td>\n",
       "      <td>1.000000</td>\n",
       "      <td>1.000000</td>\n",
       "    </tr>\n",
       "  </tbody>\n",
       "</table>\n",
       "</div>"
      ],
      "text/plain": [
       "                ID          Age   Experience       Income      ZIP Code  \\\n",
       "count  5000.000000  5000.000000  5000.000000  5000.000000   5000.000000   \n",
       "mean   2500.500000    45.338400    20.104600    73.774200  93152.503000   \n",
       "std    1443.520003    11.463166    11.467954    46.033729   2121.852197   \n",
       "min       1.000000    23.000000    -3.000000     8.000000   9307.000000   \n",
       "25%    1250.750000    35.000000    10.000000    39.000000  91911.000000   \n",
       "50%    2500.500000    45.000000    20.000000    64.000000  93437.000000   \n",
       "75%    3750.250000    55.000000    30.000000    98.000000  94608.000000   \n",
       "max    5000.000000    67.000000    43.000000   224.000000  96651.000000   \n",
       "\n",
       "            Family        CCAvg    Education     Mortgage  Personal Loan  \\\n",
       "count  5000.000000  5000.000000  5000.000000  5000.000000    5000.000000   \n",
       "mean      2.396400     1.937938     1.881000    56.498800       0.096000   \n",
       "std       1.147663     1.747659     0.839869   101.713802       0.294621   \n",
       "min       1.000000     0.000000     1.000000     0.000000       0.000000   \n",
       "25%       1.000000     0.700000     1.000000     0.000000       0.000000   \n",
       "50%       2.000000     1.500000     2.000000     0.000000       0.000000   \n",
       "75%       3.000000     2.500000     3.000000   101.000000       0.000000   \n",
       "max       4.000000    10.000000     3.000000   635.000000       1.000000   \n",
       "\n",
       "       Securities Account  CD Account       Online   CreditCard  \n",
       "count         5000.000000  5000.00000  5000.000000  5000.000000  \n",
       "mean             0.104400     0.06040     0.596800     0.294000  \n",
       "std              0.305809     0.23825     0.490589     0.455637  \n",
       "min              0.000000     0.00000     0.000000     0.000000  \n",
       "25%              0.000000     0.00000     0.000000     0.000000  \n",
       "50%              0.000000     0.00000     1.000000     0.000000  \n",
       "75%              0.000000     0.00000     1.000000     1.000000  \n",
       "max              1.000000     1.00000     1.000000     1.000000  "
      ]
     },
     "execution_count": 3,
     "metadata": {},
     "output_type": "execute_result"
    }
   ],
   "source": [
    "df.describe()"
   ]
  },
  {
   "cell_type": "code",
   "execution_count": 4,
   "id": "6a9a254b-84bc-41df-986d-42f1101a95b6",
   "metadata": {},
   "outputs": [
    {
     "name": "stdout",
     "output_type": "stream",
     "text": [
      "There are no blank cells in the DataFrame.\n"
     ]
    }
   ],
   "source": [
    "#To check for blank space\n",
    "if df.isnull().any().any():\n",
    "    print(\"There are blank cells in the DataFrame.\")\n",
    "else:\n",
    "    print(\"There are no blank cells in the DataFrame.\")"
   ]
  },
  {
   "cell_type": "code",
   "execution_count": 5,
   "id": "2971c300-85b0-46dc-b960-ffdaf3002e54",
   "metadata": {},
   "outputs": [
    {
     "data": {
      "text/html": [
       "<div>\n",
       "<style scoped>\n",
       "    .dataframe tbody tr th:only-of-type {\n",
       "        vertical-align: middle;\n",
       "    }\n",
       "\n",
       "    .dataframe tbody tr th {\n",
       "        vertical-align: top;\n",
       "    }\n",
       "\n",
       "    .dataframe thead th {\n",
       "        text-align: right;\n",
       "    }\n",
       "</style>\n",
       "<table border=\"1\" class=\"dataframe\">\n",
       "  <thead>\n",
       "    <tr style=\"text-align: right;\">\n",
       "      <th></th>\n",
       "      <th>ID</th>\n",
       "      <th>Age</th>\n",
       "      <th>Experience</th>\n",
       "      <th>Income</th>\n",
       "      <th>ZIP Code</th>\n",
       "      <th>Family</th>\n",
       "      <th>CCAvg</th>\n",
       "      <th>Education</th>\n",
       "      <th>Mortgage</th>\n",
       "      <th>Personal Loan</th>\n",
       "      <th>Securities Account</th>\n",
       "      <th>CD Account</th>\n",
       "      <th>Online</th>\n",
       "      <th>CreditCard</th>\n",
       "    </tr>\n",
       "  </thead>\n",
       "  <tbody>\n",
       "    <tr>\n",
       "      <th>0</th>\n",
       "      <td>1</td>\n",
       "      <td>25</td>\n",
       "      <td>1</td>\n",
       "      <td>49</td>\n",
       "      <td>91107</td>\n",
       "      <td>4</td>\n",
       "      <td>1.6</td>\n",
       "      <td>1</td>\n",
       "      <td>0</td>\n",
       "      <td>0</td>\n",
       "      <td>1</td>\n",
       "      <td>0</td>\n",
       "      <td>0</td>\n",
       "      <td>0</td>\n",
       "    </tr>\n",
       "    <tr>\n",
       "      <th>1</th>\n",
       "      <td>2</td>\n",
       "      <td>45</td>\n",
       "      <td>19</td>\n",
       "      <td>34</td>\n",
       "      <td>90089</td>\n",
       "      <td>3</td>\n",
       "      <td>1.5</td>\n",
       "      <td>1</td>\n",
       "      <td>0</td>\n",
       "      <td>0</td>\n",
       "      <td>1</td>\n",
       "      <td>0</td>\n",
       "      <td>0</td>\n",
       "      <td>0</td>\n",
       "    </tr>\n",
       "    <tr>\n",
       "      <th>2</th>\n",
       "      <td>3</td>\n",
       "      <td>39</td>\n",
       "      <td>15</td>\n",
       "      <td>11</td>\n",
       "      <td>94720</td>\n",
       "      <td>1</td>\n",
       "      <td>1.0</td>\n",
       "      <td>1</td>\n",
       "      <td>0</td>\n",
       "      <td>0</td>\n",
       "      <td>0</td>\n",
       "      <td>0</td>\n",
       "      <td>0</td>\n",
       "      <td>0</td>\n",
       "    </tr>\n",
       "    <tr>\n",
       "      <th>3</th>\n",
       "      <td>4</td>\n",
       "      <td>35</td>\n",
       "      <td>9</td>\n",
       "      <td>100</td>\n",
       "      <td>94112</td>\n",
       "      <td>1</td>\n",
       "      <td>2.7</td>\n",
       "      <td>2</td>\n",
       "      <td>0</td>\n",
       "      <td>0</td>\n",
       "      <td>0</td>\n",
       "      <td>0</td>\n",
       "      <td>0</td>\n",
       "      <td>0</td>\n",
       "    </tr>\n",
       "    <tr>\n",
       "      <th>4</th>\n",
       "      <td>5</td>\n",
       "      <td>35</td>\n",
       "      <td>8</td>\n",
       "      <td>45</td>\n",
       "      <td>91330</td>\n",
       "      <td>4</td>\n",
       "      <td>1.0</td>\n",
       "      <td>2</td>\n",
       "      <td>0</td>\n",
       "      <td>0</td>\n",
       "      <td>0</td>\n",
       "      <td>0</td>\n",
       "      <td>0</td>\n",
       "      <td>1</td>\n",
       "    </tr>\n",
       "  </tbody>\n",
       "</table>\n",
       "</div>"
      ],
      "text/plain": [
       "   ID  Age  Experience  Income  ZIP Code  Family  CCAvg  Education  Mortgage  \\\n",
       "0   1   25           1      49     91107       4    1.6          1         0   \n",
       "1   2   45          19      34     90089       3    1.5          1         0   \n",
       "2   3   39          15      11     94720       1    1.0          1         0   \n",
       "3   4   35           9     100     94112       1    2.7          2         0   \n",
       "4   5   35           8      45     91330       4    1.0          2         0   \n",
       "\n",
       "   Personal Loan  Securities Account  CD Account  Online  CreditCard  \n",
       "0              0                   1           0       0           0  \n",
       "1              0                   1           0       0           0  \n",
       "2              0                   0           0       0           0  \n",
       "3              0                   0           0       0           0  \n",
       "4              0                   0           0       0           1  "
      ]
     },
     "execution_count": 5,
     "metadata": {},
     "output_type": "execute_result"
    }
   ],
   "source": [
    "df.head()"
   ]
  },
  {
   "cell_type": "code",
   "execution_count": 6,
   "id": "00119bfd-0bd9-4058-8483-543e5f2c3ac6",
   "metadata": {},
   "outputs": [
    {
     "data": {
      "image/png": "[encoded data removed]",
      "text/plain": [
       "<Figure size 640x480 with 1 Axes>"
      ]
     },
     "metadata": {},
     "output_type": "display_data"
    }
   ],
   "source": [
    "#Plot how many took the loan vs how many did not\n",
    "df['Personal Loan'].value_counts().plot(kind='bar')\n",
    "plt.title('Distribution of Loans')\n",
    "plt.xlabel('Loan')\n",
    "plt.ylabel('Count')\n",
    "plt.show()"
   ]
  },
  {
   "cell_type": "code",
   "execution_count": 7,
   "id": "32c79f67-9271-4185-bb18-57d5cf715144",
   "metadata": {},
   "outputs": [
    {
     "data": {
      "image/png": "[encoded data removed]",
      "text/plain": [
       "<Figure size 1000x800 with 2 Axes>"
      ]
     },
     "metadata": {},
     "output_type": "display_data"
    }
   ],
   "source": [
    "# To view the correlation of each column against each other using heatmap\n",
    "\n",
    "import seaborn as sns\n",
    "# Calculate the correlation matrix\n",
    "correlation_matrix = df.corr()\n",
    " \n",
    "# Plot the heatmap\n",
    "plt.figure(figsize=(10, 8))\n",
    "sns.heatmap(correlation_matrix, annot=True, cmap='coolwarm', fmt=\".2f\", linewidths=0.5)\n",
    "plt.title('Correlation Heatmap')\n",
    "plt.show()"
   ]
  },
  {
   "cell_type": "code",
   "execution_count": 8,
   "id": "bbe12bd1-8073-49f2-97b4-bfa2626154c3",
   "metadata": {},
   "outputs": [
    {
     "data": {
      "text/plain": [
       "ID                      int64\n",
       "Age                     int64\n",
       "Experience              int64\n",
       "Income                  int64\n",
       "ZIP Code                int64\n",
       "Family                  int64\n",
       "CCAvg                 float64\n",
       "Education               int64\n",
       "Mortgage                int64\n",
       "Personal Loan           int64\n",
       "Securities Account      int64\n",
       "CD Account              int64\n",
       "Online                  int64\n",
       "CreditCard              int64\n",
       "dtype: object"
      ]
     },
     "execution_count": 8,
     "metadata": {},
     "output_type": "execute_result"
    }
   ],
   "source": [
    "df.dtypes"
   ]
  },
  {
   "cell_type": "code",
   "execution_count": 9,
   "id": "0821c5d0-867a-4be1-a492-3cecbf891108",
   "metadata": {},
   "outputs": [],
   "source": [
    "#df['Experience'].value_counts()"
   ]
  },
  {
   "cell_type": "markdown",
   "id": "4397f750-8b3a-4800-9469-064b11913022",
   "metadata": {},
   "source": [
    "### Using Logistic Regression"
   ]
  },
  {
   "cell_type": "code",
   "execution_count": 10,
   "id": "71750447-e48c-4419-8b1a-90cbc9eb3bc8",
   "metadata": {},
   "outputs": [],
   "source": [
    "# Shuffle data\n",
    "#df = df.sample(frac = 1)"
   ]
  },
  {
   "cell_type": "code",
   "execution_count": 11,
   "id": "3bb443e3-3cba-4119-91f2-cb59cc1a6d70",
   "metadata": {},
   "outputs": [],
   "source": [
    "X = df.drop(['ID', 'Personal Loan'], axis = 1)\n",
    "y = df['Personal Loan']"
   ]
  },
  {
   "cell_type": "code",
   "execution_count": 12,
   "id": "e76bfe16-5f90-49ed-a121-357a868cd748",
   "metadata": {},
   "outputs": [
    {
     "data": {
      "text/plain": [
       "array([[0., 0., 0., ..., 0., 0., 0.],\n",
       "       [0., 0., 1., ..., 0., 0., 0.],\n",
       "       [1., 0., 0., ..., 0., 0., 0.],\n",
       "       ...,\n",
       "       [0., 1., 0., ..., 0., 0., 0.],\n",
       "       [0., 0., 1., ..., 0., 1., 0.],\n",
       "       [0., 0., 1., ..., 0., 1., 1.]])"
      ]
     },
     "execution_count": 12,
     "metadata": {},
     "output_type": "execute_result"
    }
   ],
   "source": [
    "#Turn the Categeories into numbers\n",
    "#One Hot Encoding is a process used to turn categories into numbers\n",
    "\n",
    "from sklearn.preprocessing import OneHotEncoder\n",
    "from sklearn.compose import ColumnTransformer\n",
    " \n",
    "categorical_features =[\"Family\",\"Education\"]\n",
    "one_hot = OneHotEncoder()\n",
    "transformer = ColumnTransformer([(\"one_hot\",\n",
    "                                one_hot,\n",
    "                                categorical_features)],\n",
    "                                remainder = \"passthrough\")\n",
    "X = transformer.fit_transform(X)\n",
    "X"
   ]
  },
  {
   "cell_type": "code",
   "execution_count": 13,
   "id": "38d506a8-8da3-4983-90ec-1585c1d45964",
   "metadata": {},
   "outputs": [],
   "source": [
    "#pd.DataFrame(transformed_x)"
   ]
  },
  {
   "cell_type": "code",
   "execution_count": 14,
   "id": "2a5c9723-24d0-4611-992e-3ddcea4dce4c",
   "metadata": {},
   "outputs": [
    {
     "data": {
      "text/html": [
       "<style>#sk-container-id-1 {color: black;}#sk-container-id-1 pre{padding: 0;}#sk-container-id-1 div.sk-toggleable {background-color: white;}#sk-container-id-1 label.sk-toggleable__label {cursor: pointer;display: block;width: 100%;margin-bottom: 0;padding: 0.3em;box-sizing: border-box;text-align: center;}#sk-container-id-1 label.sk-toggleable__label-arrow:before {content: \"▸\";float: left;margin-right: 0.25em;color: #696969;}#sk-container-id-1 label.sk-toggleable__label-arrow:hover:before {color: black;}#sk-container-id-1 div.sk-estimator:hover label.sk-toggleable__label-arrow:before {color: black;}#sk-container-id-1 div.sk-toggleable__content {max-height: 0;max-width: 0;overflow: hidden;text-align: left;background-color: #f0f8ff;}#sk-container-id-1 div.sk-toggleable__content pre {margin: 0.2em;color: black;border-radius: 0.25em;background-color: #f0f8ff;}#sk-container-id-1 input.sk-toggleable__control:checked~div.sk-toggleable__content {max-height: 200px;max-width: 100%;overflow: auto;}#sk-container-id-1 input.sk-toggleable__control:checked~label.sk-toggleable__label-arrow:before {content: \"▾\";}#sk-container-id-1 div.sk-estimator input.sk-toggleable__control:checked~label.sk-toggleable__label {background-color: #d4ebff;}#sk-container-id-1 div.sk-label input.sk-toggleable__control:checked~label.sk-toggleable__label {background-color: #d4ebff;}#sk-container-id-1 input.sk-hidden--visually {border: 0;clip: rect(1px 1px 1px 1px);clip: rect(1px, 1px, 1px, 1px);height: 1px;margin: -1px;overflow: hidden;padding: 0;position: absolute;width: 1px;}#sk-container-id-1 div.sk-estimator {font-family: monospace;background-color: #f0f8ff;border: 1px dotted black;border-radius: 0.25em;box-sizing: border-box;margin-bottom: 0.5em;}#sk-container-id-1 div.sk-estimator:hover {background-color: #d4ebff;}#sk-container-id-1 div.sk-parallel-item::after {content: \"\";width: 100%;border-bottom: 1px solid gray;flex-grow: 1;}#sk-container-id-1 div.sk-label:hover label.sk-toggleable__label {background-color: #d4ebff;}#sk-container-id-1 div.sk-serial::before {content: \"\";position: absolute;border-left: 1px solid gray;box-sizing: border-box;top: 0;bottom: 0;left: 50%;z-index: 0;}#sk-container-id-1 div.sk-serial {display: flex;flex-direction: column;align-items: center;background-color: white;padding-right: 0.2em;padding-left: 0.2em;position: relative;}#sk-container-id-1 div.sk-item {position: relative;z-index: 1;}#sk-container-id-1 div.sk-parallel {display: flex;align-items: stretch;justify-content: center;background-color: white;position: relative;}#sk-container-id-1 div.sk-item::before, #sk-container-id-1 div.sk-parallel-item::before {content: \"\";position: absolute;border-left: 1px solid gray;box-sizing: border-box;top: 0;bottom: 0;left: 50%;z-index: -1;}#sk-container-id-1 div.sk-parallel-item {display: flex;flex-direction: column;z-index: 1;position: relative;background-color: white;}#sk-container-id-1 div.sk-parallel-item:first-child::after {align-self: flex-end;width: 50%;}#sk-container-id-1 div.sk-parallel-item:last-child::after {align-self: flex-start;width: 50%;}#sk-container-id-1 div.sk-parallel-item:only-child::after {width: 0;}#sk-container-id-1 div.sk-dashed-wrapped {border: 1px dashed gray;margin: 0 0.4em 0.5em 0.4em;box-sizing: border-box;padding-bottom: 0.4em;background-color: white;}#sk-container-id-1 div.sk-label label {font-family: monospace;font-weight: bold;display: inline-block;line-height: 1.2em;}#sk-container-id-1 div.sk-label-container {text-align: center;}#sk-container-id-1 div.sk-container {/* jupyter's `normalize.less` sets `[hidden] { display: none; }` but bootstrap.min.css set `[hidden] { display: none !important; }` so we also need the `!important` here to be able to override the default hidden behavior on the sphinx rendered scikit-learn.org. See: https://github.com/scikit-learn/scikit-learn/issues/21755 */display: inline-block !important;position: relative;}#sk-container-id-1 div.sk-text-repr-fallback {display: none;}</style><div id=\"sk-container-id-1\" class=\"sk-top-container\"><div class=\"sk-text-repr-fallback\"><pre>LogisticRegression()</pre><b>In a Jupyter environment, please rerun this cell to show the HTML representation or trust the notebook. <br />On GitHub, the HTML representation is unable to render, please try loading this page with nbviewer.org.</b></div><div class=\"sk-container\" hidden><div class=\"sk-item\"><div class=\"sk-estimator sk-toggleable\"><input class=\"sk-toggleable__control sk-hidden--visually\" id=\"sk-estimator-id-1\" type=\"checkbox\" checked><label for=\"sk-estimator-id-1\" class=\"sk-toggleable__label sk-toggleable__label-arrow\">LogisticRegression</label><div class=\"sk-toggleable__content\"><pre>LogisticRegression()</pre></div></div></div></div></div>"
      ],
      "text/plain": [
       "LogisticRegression()"
      ]
     },
     "execution_count": 14,
     "metadata": {},
     "output_type": "execute_result"
    }
   ],
   "source": [
    "#numpy seed\n",
    "\n",
    "np.random.seed(42)\n",
    "\n",
    "#split into train and test\n",
    "x_train, x_test, y_train, y_test = train_test_split(X,y, test_size = 0.3)\n",
    "\n",
    "#define model\n",
    "model_1 = LogisticRegression()\n",
    "\n",
    "#Fit model\n",
    "model_1.fit(x_train, y_train)\n"
   ]
  },
  {
   "cell_type": "code",
   "execution_count": 15,
   "id": "a59d9260-5e9d-4182-a107-b1058a446a5b",
   "metadata": {},
   "outputs": [
    {
     "data": {
      "text/plain": [
       "0.9013333333333333"
      ]
     },
     "execution_count": 15,
     "metadata": {},
     "output_type": "execute_result"
    }
   ],
   "source": [
    "#Score model\n",
    "model_1.score(x_test, y_test)"
   ]
  },
  {
   "cell_type": "code",
   "execution_count": 16,
   "id": "4ad4c2d6-4fce-4004-92b4-635e9a147ebe",
   "metadata": {},
   "outputs": [
    {
     "data": {
      "text/plain": [
       "array([[1304,   39],\n",
       "       [ 109,   48]], dtype=int64)"
      ]
     },
     "execution_count": 16,
     "metadata": {},
     "output_type": "execute_result"
    }
   ],
   "source": [
    "from sklearn.metrics import confusion_matrix\n",
    "\n",
    "y_pred = model_1.predict(x_test)\n",
    "\n",
    "confusion_matrix(y_test, y_pred)"
   ]
  },
  {
   "cell_type": "code",
   "execution_count": 17,
   "id": "12fd227b-9aaf-4d30-85c8-dc3caf5a5bd8",
   "metadata": {},
   "outputs": [
    {
     "data": {
      "text/html": [
       "<div>\n",
       "<style scoped>\n",
       "    .dataframe tbody tr th:only-of-type {\n",
       "        vertical-align: middle;\n",
       "    }\n",
       "\n",
       "    .dataframe tbody tr th {\n",
       "        vertical-align: top;\n",
       "    }\n",
       "\n",
       "    .dataframe thead th {\n",
       "        text-align: right;\n",
       "    }\n",
       "</style>\n",
       "<table border=\"1\" class=\"dataframe\">\n",
       "  <thead>\n",
       "    <tr style=\"text-align: right;\">\n",
       "      <th>Predictable Lable</th>\n",
       "      <th>0</th>\n",
       "      <th>1</th>\n",
       "    </tr>\n",
       "    <tr>\n",
       "      <th>Actual Label</th>\n",
       "      <th></th>\n",
       "      <th></th>\n",
       "    </tr>\n",
       "  </thead>\n",
       "  <tbody>\n",
       "    <tr>\n",
       "      <th>0</th>\n",
       "      <td>1304</td>\n",
       "      <td>39</td>\n",
       "    </tr>\n",
       "    <tr>\n",
       "      <th>1</th>\n",
       "      <td>109</td>\n",
       "      <td>48</td>\n",
       "    </tr>\n",
       "  </tbody>\n",
       "</table>\n",
       "</div>"
      ],
      "text/plain": [
       "Predictable Lable     0   1\n",
       "Actual Label               \n",
       "0                  1304  39\n",
       "1                   109  48"
      ]
     },
     "execution_count": 17,
     "metadata": {},
     "output_type": "execute_result"
    }
   ],
   "source": [
    "#To understand the outcome better, let's visualize it pd.crosstab()\n",
    "import pandas as pd\n",
    "pd.crosstab(y_test,\n",
    "           y_pred,\n",
    "           rownames = ['Actual Label'],\n",
    "           colnames = ['Predictable Lable'])"
   ]
  },
  {
   "cell_type": "code",
   "execution_count": 18,
   "id": "bf6f8907-7a5f-424b-9975-91cabc7149fa",
   "metadata": {},
   "outputs": [
    {
     "data": {
      "image/png": "[encoded data removed]",
      "text/plain": [
       "<Figure size 640x480 with 2 Axes>"
      ]
     },
     "metadata": {},
     "output_type": "display_data"
    }
   ],
   "source": [
    "from sklearn.metrics import ConfusionMatrixDisplay\n",
    "\n",
    "ConfusionMatrixDisplay.from_estimator(estimator = model_1, X = x_test, y = y_test);"
   ]
  },
  {
   "cell_type": "markdown",
   "id": "f616b8c4-17f3-4c0b-a32d-b3b58cc42fc4",
   "metadata": {},
   "source": [
    "### Using KNN model"
   ]
  },
  {
   "cell_type": "code",
   "execution_count": 19,
   "id": "a586c7f0-63d9-4b30-ab96-fa83a57e00a6",
   "metadata": {},
   "outputs": [
    {
     "name": "stdout",
     "output_type": "stream",
     "text": [
      "Accuracy: 0.8993333333333333\n"
     ]
    }
   ],
   "source": [
    "#define model\n",
    "model_2 = KNeighborsClassifier()\n",
    "\n",
    "#Fit model\n",
    "model_2.fit(x_train, y_train)\n",
    "\n",
    "#Score model\n",
    "# Make predictions on the test set\n",
    "y_pred = model_2.predict(x_test)\n",
    "\n",
    "# Score the model on the testing data\n",
    "accuracy = model_2.score(x_test, y_test)\n",
    "print(\"Accuracy:\", accuracy)"
   ]
  },
  {
   "cell_type": "code",
   "execution_count": 20,
   "id": "eb8c4529-71c5-4e31-aba1-822eaf3fe1d8",
   "metadata": {},
   "outputs": [
    {
     "data": {
      "text/plain": [
       "array([[1310,   33],\n",
       "       [ 118,   39]], dtype=int64)"
      ]
     },
     "execution_count": 20,
     "metadata": {},
     "output_type": "execute_result"
    }
   ],
   "source": [
    "y_pred = model_2.predict(x_test)\n",
    "\n",
    "confusion_matrix(y_test, y_pred)"
   ]
  },
  {
   "cell_type": "code",
   "execution_count": 21,
   "id": "e2d0bc01-6c15-471f-a4fb-3406616beca1",
   "metadata": {},
   "outputs": [
    {
     "data": {
      "image/png": "[encoded data removed]",
      "text/plain": [
       "<Figure size 640x480 with 2 Axes>"
      ]
     },
     "metadata": {},
     "output_type": "display_data"
    }
   ],
   "source": [
    "from sklearn.metrics import ConfusionMatrixDisplay\n",
    "\n",
    "ConfusionMatrixDisplay.from_estimator(estimator = model_2, X = x_test, y = y_test);"
   ]
  },
  {
   "cell_type": "markdown",
   "id": "7cddc29d-9433-4199-bf65-bfd1a42b5039",
   "metadata": {},
   "source": [
    "### Using Naive Bayes Model"
   ]
  },
  {
   "cell_type": "code",
   "execution_count": 22,
   "id": "65f77835-f2d3-494a-840b-5d1983f9d6fa",
   "metadata": {},
   "outputs": [
    {
     "name": "stdout",
     "output_type": "stream",
     "text": [
      "Accuracy: 0.9046666666666666\n"
     ]
    }
   ],
   "source": [
    "#define model\n",
    "model_3 = GaussianNB()\n",
    "\n",
    "#Fit model\n",
    "model_3.fit(x_train, y_train)\n",
    "\n",
    "#Score model\n",
    "# Make predictions on the test set\n",
    "y_pred = model_3.predict(x_test)\n",
    "\n",
    "# Score the model on the testing data\n",
    "accuracy = model_3.score(x_test, y_test)\n",
    "print(\"Accuracy:\", accuracy)"
   ]
  },
  {
   "cell_type": "code",
   "execution_count": 23,
   "id": "aae28bcf-0a2d-4f71-a9ab-26c3c6d3dd19",
   "metadata": {},
   "outputs": [
    {
     "data": {
      "text/plain": [
       "array([[1260,   83],\n",
       "       [  60,   97]], dtype=int64)"
      ]
     },
     "execution_count": 23,
     "metadata": {},
     "output_type": "execute_result"
    }
   ],
   "source": [
    "y_pred = model_3.predict(x_test)\n",
    "\n",
    "confusion_matrix(y_test, y_pred)"
   ]
  },
  {
   "cell_type": "code",
   "execution_count": 24,
   "id": "f46d1eb3-3071-4bd9-8812-677b55efd809",
   "metadata": {},
   "outputs": [
    {
     "data": {
      "image/png": "[encoded data removed]",
      "text/plain": [
       "<Figure size 640x480 with 2 Axes>"
      ]
     },
     "metadata": {},
     "output_type": "display_data"
    }
   ],
   "source": [
    "from sklearn.metrics import ConfusionMatrixDisplay\n",
    "\n",
    "ConfusionMatrixDisplay.from_estimator(estimator = model_3, X = x_test, y = y_test);"
   ]
  },
  {
   "cell_type": "markdown",
   "id": "75852eaa-9a64-4e31-a4b9-e9cd6f939c05",
   "metadata": {},
   "source": [
    "### Using Random Forest Classifier Model"
   ]
  },
  {
   "cell_type": "code",
   "execution_count": 25,
   "id": "7e3bd302-5f2a-44a1-a853-bfd2605351d0",
   "metadata": {},
   "outputs": [
    {
     "name": "stdout",
     "output_type": "stream",
     "text": [
      "Accuracy: 0.99\n"
     ]
    }
   ],
   "source": [
    "np.random.seed(42)\n",
    "\n",
    "#split into train and test\n",
    "x_train, x_test, y_train, y_test = train_test_split(X,y, test_size = 0.3)\n",
    "\n",
    "#define model\n",
    "model_4 =  RandomForestClassifier()\n",
    "\n",
    "#Fit model\n",
    "model_4.fit(x_train, y_train)\n",
    "\n",
    "#Score model\n",
    "# Make predictions on the test set\n",
    "y_pred = model_4.predict(x_test)\n",
    "\n",
    "# Score the model on the testing data\n",
    "accuracy = model_4.score(x_test, y_test)\n",
    "print(\"Accuracy:\", accuracy)\n"
   ]
  },
  {
   "cell_type": "code",
   "execution_count": 26,
   "id": "117c9d41-1b85-47bd-a4b4-c4ba1e507418",
   "metadata": {},
   "outputs": [
    {
     "data": {
      "text/plain": [
       "array([[1342,    1],\n",
       "       [  14,  143]], dtype=int64)"
      ]
     },
     "execution_count": 26,
     "metadata": {},
     "output_type": "execute_result"
    }
   ],
   "source": [
    "y_pred = model_4.predict(x_test)\n",
    "\n",
    "confusion_matrix(y_test, y_pred)"
   ]
  },
  {
   "cell_type": "code",
   "execution_count": 27,
   "id": "5172cba8-f1d8-435a-a020-97efb81fc027",
   "metadata": {},
   "outputs": [
    {
     "data": {
      "image/png": "[encoded data removed]",
      "text/plain": [
       "<Figure size 640x480 with 2 Axes>"
      ]
     },
     "metadata": {},
     "output_type": "display_data"
    }
   ],
   "source": [
    "from sklearn.metrics import ConfusionMatrixDisplay\n",
    "\n",
    "ConfusionMatrixDisplay.from_estimator(estimator = model_4, X = x_test, y = y_test);"
   ]
  },
  {
   "cell_type": "markdown",
   "id": "91ecc444-c6a6-44ff-91e6-6ab12d1f0e44",
   "metadata": {},
   "source": [
    "### Using Cross Validation for all the above models"
   ]
  },
  {
   "cell_type": "code",
   "execution_count": 28,
   "id": "d8e553a8-b777-4935-a221-7376023c1e96",
   "metadata": {},
   "outputs": [],
   "source": [
    "from sklearn.model_selection import cross_val_score"
   ]
  },
  {
   "cell_type": "code",
   "execution_count": 29,
   "id": "9f930037-47b6-4183-a24f-9b92d809885b",
   "metadata": {},
   "outputs": [
    {
     "data": {
      "text/plain": [
       "(0.9013333333333333, 0.9076)"
      ]
     },
     "execution_count": 29,
     "metadata": {},
     "output_type": "execute_result"
    }
   ],
   "source": [
    "np.random.seed(42)\n",
    "scoring_single = model_1.score(x_test, y_test)\n",
    "\n",
    "scoring_cross_vali = np.mean(cross_val_score(model_1, X, y, cv = 4))\n",
    "\n",
    "scoring_single, scoring_cross_vali"
   ]
  },
  {
   "cell_type": "code",
   "execution_count": 30,
   "id": "b3723ccb-94b8-46f8-b958-4ad881388b81",
   "metadata": {},
   "outputs": [
    {
     "name": "stdout",
     "output_type": "stream",
     "text": [
      "KNN Cross-validation scores: [0.9008 0.9024 0.8928 0.9008]\n",
      "KNN Mean accuracy: 0.8992\n",
      "Logistic Regression Cross-validation scores: [0.9128 0.9072 0.9064 0.9056]\n",
      "Logistic Regression Mean accuracy: 0.9079999999999999\n",
      "Random Forest Cross-validation scores: [0.9856 0.9848 0.9864 0.9888]\n",
      "Random Forest Mean accuracy: 0.9864\n",
      "Naive Bayes Cross-validation scores: [0.8976 0.904  0.8984 0.9008]\n",
      "Naive Bayes Mean accuracy: 0.9002000000000001\n"
     ]
    }
   ],
   "source": [
    "from sklearn.model_selection import cross_val_score\n",
    "from sklearn.neighbors import KNeighborsClassifier\n",
    "from sklearn.linear_model import LogisticRegression\n",
    "from sklearn.ensemble import RandomForestClassifier\n",
    "from sklearn.naive_bayes import GaussianNB\n",
    " \n",
    "knn = KNeighborsClassifier()\n",
    "lr = LogisticRegression(max_iter=1000, solver='liblinear')\n",
    "rf = RandomForestClassifier()\n",
    "nv = GaussianNB()\n",
    "\n",
    "\n",
    "models = {'KNN': knn, 'Logistic Regression': lr, 'Random Forest': rf, 'Naive Bayes': nv}\n",
    "\n",
    "def cross_validate_models(models, X, y, cv=4, scoring='accuracy'):\n",
    "    \n",
    "    \"\"\"\n",
    "    Perform cross-validation on multiple models using the specified data and return the evaluation scores.\n",
    "    \"\"\"\n",
    "    scores_dict = {}\n",
    "    for model_name, model in models.items():\n",
    "        scores = cross_val_score(model, X, y, cv=cv, scoring=scoring)\n",
    "        scores_dict[model_name] = scores\n",
    "    return scores_dict\n",
    "\n",
    "# Example usage:\n",
    "# Assume you have already imported your dataset as X and y\n",
    "# and you have initialized your models (e.g., knn = KNeighborsClassifier(), lr = LogisticRegression(), dt = DecisionTreeClassifier())\n",
    " \n",
    "models = {'KNN': knn, 'Logistic Regression': lr, 'Random Forest': rf, 'Naive Bayes': nv}\n",
    "scores_dict = cross_validate_models(models, X, y)\n",
    "for model_name, scores in scores_dict.items():\n",
    "    print(model_name, \"Cross-validation scores:\", scores)\n",
    "    print(model_name, \"Mean accuracy:\", scores.mean())"
   ]
  },
  {
   "cell_type": "markdown",
   "id": "4ce2b588-b306-4fa4-a793-87a6223d966b",
   "metadata": {},
   "source": [
    "### Hyperparameter tuning"
   ]
  },
  {
   "cell_type": "markdown",
   "id": "b266394f-0a7c-4211-ac9d-67fc42911166",
   "metadata": {},
   "source": [
    "##### We are going to try and adjust:\n",
    "* max_depth\n",
    "* max_features\n",
    "* min_samples_leaf\n",
    "* min_samples_split\n",
    "* n_estimators"
   ]
  },
  {
   "cell_type": "markdown",
   "id": "e62f2902-33fc-4af5-9288-cbe24af06690",
   "metadata": {},
   "source": [
    "#### On Logistic Regression"
   ]
  },
  {
   "cell_type": "code",
   "execution_count": 31,
   "id": "125c12a1-74f5-42d0-9bca-dc238f4b434c",
   "metadata": {},
   "outputs": [],
   "source": [
    "from sklearn.model_selection import RandomizedSearchCV\n",
    "grid = {'max_depth': [None, 5,10,20,30],\n",
    "        'max_features': ['auto','sqrt'],\n",
    "        'min_samples_leaf': [1,2,4],\n",
    "        'min_samples_split': [2,4,6],\n",
    "        'n_estimators': [10,100,200,500,1000,1200]}"
   ]
  },
  {
   "cell_type": "code",
   "execution_count": 32,
   "id": "a43aaa40-f633-4f42-9198-31fe1b4e5cce",
   "metadata": {},
   "outputs": [],
   "source": [
    "# Shuffle data\n",
    "df_shuffled = df.sample(frac = 1)"
   ]
  },
  {
   "cell_type": "code",
   "execution_count": 33,
   "id": "b66cc072-bd6a-428a-999d-55de9658f9fd",
   "metadata": {},
   "outputs": [],
   "source": [
    "X = df_shuffled.drop(['ID', 'Personal Loan'], axis = 1)\n",
    "y = df_shuffled['Personal Loan']"
   ]
  },
  {
   "cell_type": "code",
   "execution_count": 34,
   "id": "08426a93-9c91-4ef3-8399-a41ddf50d4d5",
   "metadata": {},
   "outputs": [
    {
     "data": {
      "text/plain": [
       "array([[0., 0., 0., ..., 0., 1., 0.],\n",
       "       [0., 0., 0., ..., 0., 1., 0.],\n",
       "       [0., 1., 0., ..., 0., 0., 0.],\n",
       "       ...,\n",
       "       [1., 0., 0., ..., 0., 1., 0.],\n",
       "       [0., 0., 0., ..., 0., 0., 1.],\n",
       "       [1., 0., 0., ..., 0., 0., 0.]])"
      ]
     },
     "execution_count": 34,
     "metadata": {},
     "output_type": "execute_result"
    }
   ],
   "source": [
    "#Turn the Categeories into numbers\n",
    "#One Hot Encoding is a process used to turn categories into numbers\n",
    "\n",
    "from sklearn.preprocessing import OneHotEncoder\n",
    "from sklearn.compose import ColumnTransformer\n",
    " \n",
    "categorical_features =[\"Family\",\"Education\"]\n",
    "one_hot = OneHotEncoder()\n",
    "transformer = ColumnTransformer([(\"one_hot\",\n",
    "                                one_hot,\n",
    "                                categorical_features)],\n",
    "                                remainder = \"passthrough\")\n",
    "X = transformer.fit_transform(X)\n",
    "X"
   ]
  },
  {
   "cell_type": "code",
   "execution_count": 35,
   "id": "c2eae25f-7703-4f27-b8e9-1d8914e1a12e",
   "metadata": {},
   "outputs": [
    {
     "name": "stdout",
     "output_type": "stream",
     "text": [
      "Fitting 5 folds for each of 10 candidates, totalling 50 fits\n",
      "[CV] END ................C=0.1, penalty=l2, solver=newton-cg; total time=   2.7s\n",
      "[CV] END ................C=0.1, penalty=l2, solver=newton-cg; total time=   0.9s\n",
      "[CV] END ................C=0.1, penalty=l2, solver=newton-cg; total time=   0.8s\n",
      "[CV] END ................C=0.1, penalty=l2, solver=newton-cg; total time=   0.8s\n",
      "[CV] END ................C=0.1, penalty=l2, solver=newton-cg; total time=   0.8s\n",
      "[CV] END ................C=0.1, penalty=l2, solver=liblinear; total time=   0.0s\n",
      "[CV] END ................C=0.1, penalty=l2, solver=liblinear; total time=   0.0s\n",
      "[CV] END ................C=0.1, penalty=l2, solver=liblinear; total time=   0.0s\n",
      "[CV] END ................C=0.1, penalty=l2, solver=liblinear; total time=   0.0s\n",
      "[CV] END ................C=0.1, penalty=l2, solver=liblinear; total time=   0.0s\n",
      "[CV] END ..............C=1, penalty=elasticnet, solver=lbfgs; total time=   0.0s\n",
      "[CV] END ..............C=1, penalty=elasticnet, solver=lbfgs; total time=   0.0s\n",
      "[CV] END ..............C=1, penalty=elasticnet, solver=lbfgs; total time=   0.0s\n",
      "[CV] END ..............C=1, penalty=elasticnet, solver=lbfgs; total time=   0.0s\n",
      "[CV] END ..............C=1, penalty=elasticnet, solver=lbfgs; total time=   0.0s\n",
      "[CV] END ....................C=0.1, penalty=l1, solver=lbfgs; total time=   0.0s\n",
      "[CV] END ....................C=0.1, penalty=l1, solver=lbfgs; total time=   0.0s\n",
      "[CV] END ....................C=0.1, penalty=l1, solver=lbfgs; total time=   0.0s\n",
      "[CV] END ....................C=0.1, penalty=l1, solver=lbfgs; total time=   0.0s\n",
      "[CV] END ....................C=0.1, penalty=l1, solver=lbfgs; total time=   0.0s\n",
      "[CV] END .................C=10, penalty=l1, solver=liblinear; total time=   0.0s\n"
     ]
    },
    {
     "name": "stderr",
     "output_type": "stream",
     "text": [
      "C:\\Users\\omoto\\AppData\\Local\\Programs\\Python\\Python311\\Lib\\site-packages\\sklearn\\linear_model\\_logistic.py:1223: UserWarning: 'n_jobs' > 1 does not have any effect when 'solver' is set to 'liblinear'. Got 'n_jobs' = 16.\n",
      "  warnings.warn(\n",
      "C:\\Users\\omoto\\AppData\\Local\\Programs\\Python\\Python311\\Lib\\site-packages\\sklearn\\linear_model\\_logistic.py:1223: UserWarning: 'n_jobs' > 1 does not have any effect when 'solver' is set to 'liblinear'. Got 'n_jobs' = 16.\n",
      "  warnings.warn(\n",
      "C:\\Users\\omoto\\AppData\\Local\\Programs\\Python\\Python311\\Lib\\site-packages\\sklearn\\linear_model\\_logistic.py:1223: UserWarning: 'n_jobs' > 1 does not have any effect when 'solver' is set to 'liblinear'. Got 'n_jobs' = 16.\n",
      "  warnings.warn(\n",
      "C:\\Users\\omoto\\AppData\\Local\\Programs\\Python\\Python311\\Lib\\site-packages\\sklearn\\linear_model\\_logistic.py:1223: UserWarning: 'n_jobs' > 1 does not have any effect when 'solver' is set to 'liblinear'. Got 'n_jobs' = 16.\n",
      "  warnings.warn(\n",
      "C:\\Users\\omoto\\AppData\\Local\\Programs\\Python\\Python311\\Lib\\site-packages\\sklearn\\linear_model\\_logistic.py:1223: UserWarning: 'n_jobs' > 1 does not have any effect when 'solver' is set to 'liblinear'. Got 'n_jobs' = 16.\n",
      "  warnings.warn(\n",
      "C:\\Users\\omoto\\AppData\\Local\\Programs\\Python\\Python311\\Lib\\site-packages\\sklearn\\linear_model\\_logistic.py:1223: UserWarning: 'n_jobs' > 1 does not have any effect when 'solver' is set to 'liblinear'. Got 'n_jobs' = 16.\n",
      "  warnings.warn(\n",
      "C:\\Users\\omoto\\AppData\\Local\\Programs\\Python\\Python311\\Lib\\site-packages\\sklearn\\linear_model\\_logistic.py:1223: UserWarning: 'n_jobs' > 1 does not have any effect when 'solver' is set to 'liblinear'. Got 'n_jobs' = 16.\n",
      "  warnings.warn(\n"
     ]
    },
    {
     "name": "stdout",
     "output_type": "stream",
     "text": [
      "[CV] END .................C=10, penalty=l1, solver=liblinear; total time=   0.0s\n",
      "[CV] END .................C=10, penalty=l1, solver=liblinear; total time=   0.0s\n",
      "[CV] END .................C=10, penalty=l1, solver=liblinear; total time=   0.0s\n",
      "[CV] END .................C=10, penalty=l1, solver=liblinear; total time=   0.0s\n",
      "[CV] END ............C=100, penalty=elasticnet, solver=lbfgs; total time=   0.0s\n",
      "[CV] END ............C=100, penalty=elasticnet, solver=lbfgs; total time=   0.0s\n",
      "[CV] END ............C=100, penalty=elasticnet, solver=lbfgs; total time=   0.0s\n",
      "[CV] END ............C=100, penalty=elasticnet, solver=lbfgs; total time=   0.0s\n",
      "[CV] END ............C=100, penalty=elasticnet, solver=lbfgs; total time=   0.0s\n"
     ]
    },
    {
     "name": "stderr",
     "output_type": "stream",
     "text": [
      "C:\\Users\\omoto\\AppData\\Local\\Programs\\Python\\Python311\\Lib\\site-packages\\sklearn\\linear_model\\_logistic.py:1223: UserWarning: 'n_jobs' > 1 does not have any effect when 'solver' is set to 'liblinear'. Got 'n_jobs' = 16.\n",
      "  warnings.warn(\n",
      "C:\\Users\\omoto\\AppData\\Local\\Programs\\Python\\Python311\\Lib\\site-packages\\sklearn\\linear_model\\_logistic.py:1223: UserWarning: 'n_jobs' > 1 does not have any effect when 'solver' is set to 'liblinear'. Got 'n_jobs' = 16.\n",
      "  warnings.warn(\n",
      "C:\\Users\\omoto\\AppData\\Local\\Programs\\Python\\Python311\\Lib\\site-packages\\sklearn\\linear_model\\_logistic.py:1223: UserWarning: 'n_jobs' > 1 does not have any effect when 'solver' is set to 'liblinear'. Got 'n_jobs' = 16.\n",
      "  warnings.warn(\n"
     ]
    },
    {
     "name": "stdout",
     "output_type": "stream",
     "text": [
      "[CV] END ...................C=0.01, penalty=l2, solver=lbfgs; total time=   0.8s\n",
      "[CV] END ...................C=0.01, penalty=l2, solver=lbfgs; total time=   0.9s\n",
      "[CV] END ...................C=0.01, penalty=l2, solver=lbfgs; total time=   1.0s\n",
      "[CV] END ...................C=0.01, penalty=l2, solver=lbfgs; total time=   0.8s\n",
      "[CV] END ...................C=0.01, penalty=l2, solver=lbfgs; total time=   0.9s\n",
      "[CV] END ................C=100, penalty=l1, solver=newton-cg; total time=   0.0s\n",
      "[CV] END ................C=100, penalty=l1, solver=newton-cg; total time=   0.0s\n",
      "[CV] END ................C=100, penalty=l1, solver=newton-cg; total time=   0.0s\n",
      "[CV] END ................C=100, penalty=l1, solver=newton-cg; total time=   0.0s\n",
      "[CV] END ................C=100, penalty=l1, solver=newton-cg; total time=   0.0s\n",
      "[CV] END ..................C=1, penalty=l1, solver=newton-cg; total time=   0.0s\n",
      "[CV] END ..................C=1, penalty=l1, solver=newton-cg; total time=   0.0s\n",
      "[CV] END ..................C=1, penalty=l1, solver=newton-cg; total time=   0.0s\n",
      "[CV] END ..................C=1, penalty=l1, solver=newton-cg; total time=   0.0s\n",
      "[CV] END ..................C=1, penalty=l1, solver=newton-cg; total time=   0.0s\n",
      "[CV] END ............C=0.1, penalty=elasticnet, solver=lbfgs; total time=   0.0s\n",
      "[CV] END ............C=0.1, penalty=elasticnet, solver=lbfgs; total time=   0.0s\n",
      "[CV] END ............C=0.1, penalty=elasticnet, solver=lbfgs; total time=   0.0s\n",
      "[CV] END ............C=0.1, penalty=elasticnet, solver=lbfgs; total time=   0.0s\n",
      "[CV] END ............C=0.1, penalty=elasticnet, solver=lbfgs; total time=   0.0s\n"
     ]
    },
    {
     "name": "stderr",
     "output_type": "stream",
     "text": [
      "C:\\Users\\omoto\\AppData\\Local\\Programs\\Python\\Python311\\Lib\\site-packages\\sklearn\\model_selection\\_validation.py:425: FitFailedWarning: \n",
      "30 fits failed out of a total of 50.\n",
      "The score on these train-test partitions for these parameters will be set to nan.\n",
      "If these failures are not expected, you can try to debug them by setting error_score='raise'.\n",
      "\n",
      "Below are more details about the failures:\n",
      "--------------------------------------------------------------------------------\n",
      "15 fits failed with the following error:\n",
      "Traceback (most recent call last):\n",
      "  File \"C:\\Users\\omoto\\AppData\\Local\\Programs\\Python\\Python311\\Lib\\site-packages\\sklearn\\model_selection\\_validation.py\", line 729, in _fit_and_score\n",
      "    estimator.fit(X_train, y_train, **fit_params)\n",
      "  File \"C:\\Users\\omoto\\AppData\\Local\\Programs\\Python\\Python311\\Lib\\site-packages\\sklearn\\base.py\", line 1152, in wrapper\n",
      "    return fit_method(estimator, *args, **kwargs)\n",
      "           ^^^^^^^^^^^^^^^^^^^^^^^^^^^^^^^^^^^^^^\n",
      "  File \"C:\\Users\\omoto\\AppData\\Local\\Programs\\Python\\Python311\\Lib\\site-packages\\sklearn\\linear_model\\_logistic.py\", line 1169, in fit\n",
      "    solver = _check_solver(self.solver, self.penalty, self.dual)\n",
      "             ^^^^^^^^^^^^^^^^^^^^^^^^^^^^^^^^^^^^^^^^^^^^^^^^^^^\n",
      "  File \"C:\\Users\\omoto\\AppData\\Local\\Programs\\Python\\Python311\\Lib\\site-packages\\sklearn\\linear_model\\_logistic.py\", line 56, in _check_solver\n",
      "    raise ValueError(\n",
      "ValueError: Solver lbfgs supports only 'l2' or 'none' penalties, got elasticnet penalty.\n",
      "\n",
      "--------------------------------------------------------------------------------\n",
      "5 fits failed with the following error:\n",
      "Traceback (most recent call last):\n",
      "  File \"C:\\Users\\omoto\\AppData\\Local\\Programs\\Python\\Python311\\Lib\\site-packages\\sklearn\\model_selection\\_validation.py\", line 729, in _fit_and_score\n",
      "    estimator.fit(X_train, y_train, **fit_params)\n",
      "  File \"C:\\Users\\omoto\\AppData\\Local\\Programs\\Python\\Python311\\Lib\\site-packages\\sklearn\\base.py\", line 1152, in wrapper\n",
      "    return fit_method(estimator, *args, **kwargs)\n",
      "           ^^^^^^^^^^^^^^^^^^^^^^^^^^^^^^^^^^^^^^\n",
      "  File \"C:\\Users\\omoto\\AppData\\Local\\Programs\\Python\\Python311\\Lib\\site-packages\\sklearn\\linear_model\\_logistic.py\", line 1169, in fit\n",
      "    solver = _check_solver(self.solver, self.penalty, self.dual)\n",
      "             ^^^^^^^^^^^^^^^^^^^^^^^^^^^^^^^^^^^^^^^^^^^^^^^^^^^\n",
      "  File \"C:\\Users\\omoto\\AppData\\Local\\Programs\\Python\\Python311\\Lib\\site-packages\\sklearn\\linear_model\\_logistic.py\", line 56, in _check_solver\n",
      "    raise ValueError(\n",
      "ValueError: Solver lbfgs supports only 'l2' or 'none' penalties, got l1 penalty.\n",
      "\n",
      "--------------------------------------------------------------------------------\n",
      "10 fits failed with the following error:\n",
      "Traceback (most recent call last):\n",
      "  File \"C:\\Users\\omoto\\AppData\\Local\\Programs\\Python\\Python311\\Lib\\site-packages\\sklearn\\model_selection\\_validation.py\", line 729, in _fit_and_score\n",
      "    estimator.fit(X_train, y_train, **fit_params)\n",
      "  File \"C:\\Users\\omoto\\AppData\\Local\\Programs\\Python\\Python311\\Lib\\site-packages\\sklearn\\base.py\", line 1152, in wrapper\n",
      "    return fit_method(estimator, *args, **kwargs)\n",
      "           ^^^^^^^^^^^^^^^^^^^^^^^^^^^^^^^^^^^^^^\n",
      "  File \"C:\\Users\\omoto\\AppData\\Local\\Programs\\Python\\Python311\\Lib\\site-packages\\sklearn\\linear_model\\_logistic.py\", line 1169, in fit\n",
      "    solver = _check_solver(self.solver, self.penalty, self.dual)\n",
      "             ^^^^^^^^^^^^^^^^^^^^^^^^^^^^^^^^^^^^^^^^^^^^^^^^^^^\n",
      "  File \"C:\\Users\\omoto\\AppData\\Local\\Programs\\Python\\Python311\\Lib\\site-packages\\sklearn\\linear_model\\_logistic.py\", line 56, in _check_solver\n",
      "    raise ValueError(\n",
      "ValueError: Solver newton-cg supports only 'l2' or 'none' penalties, got l1 penalty.\n",
      "\n",
      "  warnings.warn(some_fits_failed_message, FitFailedWarning)\n",
      "C:\\Users\\omoto\\AppData\\Local\\Programs\\Python\\Python311\\Lib\\site-packages\\sklearn\\model_selection\\_search.py:979: UserWarning: One or more of the test scores are non-finite: [0.94885714 0.90514286        nan        nan 0.958             nan\n",
      " 0.90714286        nan        nan        nan]\n",
      "  warnings.warn(\n",
      "C:\\Users\\omoto\\AppData\\Local\\Programs\\Python\\Python311\\Lib\\site-packages\\sklearn\\linear_model\\_logistic.py:1223: UserWarning: 'n_jobs' > 1 does not have any effect when 'solver' is set to 'liblinear'. Got 'n_jobs' = 16.\n",
      "  warnings.warn(\n"
     ]
    }
   ],
   "source": [
    " grid_log ={\n",
    "     'penalty': ['l1', 'l2', 'elasticnet'],\n",
    "     'C': [0.01, 0.1, 1, 10, 100],\n",
    "     'solver': ['lbfgs', 'newton-cg', 'liblinear']\n",
    " }\n",
    "\n",
    "np.random.seed(42)\n",
    "\n",
    "#Split data into train and test set\n",
    "from sklearn.model_selection import train_test_split\n",
    "\n",
    "X_train, X_test, y_train, y_test = train_test_split(X, y, test_size=0.3)\n",
    "\n",
    "# Define model\n",
    "model_1_1 = LogisticRegression(n_jobs = -1)\n",
    "\n",
    "# Setup RandomizedSearchCV\n",
    "rs_model_1_1 = RandomizedSearchCV(estimator = model_1_1,\n",
    "                           param_distributions = grid_log,\n",
    "                           n_iter = 10, #The number of models t try\n",
    "                           cv = 5,\n",
    "                           verbose = 2)\n",
    "#Fit Randomized model\n",
    "rs_model_1_1.fit(X_train, y_train);"
   ]
  },
  {
   "cell_type": "code",
   "execution_count": 36,
   "id": "3307fdc4-0d71-46c2-baf9-507e8752dd81",
   "metadata": {},
   "outputs": [
    {
     "data": {
      "text/plain": [
       "{'solver': 'liblinear', 'penalty': 'l1', 'C': 10}"
      ]
     },
     "execution_count": 36,
     "metadata": {},
     "output_type": "execute_result"
    }
   ],
   "source": [
    "rs_model_1_1.best_params_"
   ]
  },
  {
   "cell_type": "code",
   "execution_count": 37,
   "id": "cd3d1e2d-d28a-4da0-9252-8157ab77917f",
   "metadata": {},
   "outputs": [],
   "source": [
    "# To make prediction with the best hyperparameter\n",
    "rs_model_1_1_y_preds = rs_model_1_1.predict(X_test)"
   ]
  },
  {
   "cell_type": "code",
   "execution_count": 38,
   "id": "271ecb7d-5734-47d4-870f-c381e334e4cc",
   "metadata": {},
   "outputs": [
    {
     "data": {
      "text/plain": [
       "array([[1341,    9],\n",
       "       [  43,  107]], dtype=int64)"
      ]
     },
     "execution_count": 38,
     "metadata": {},
     "output_type": "execute_result"
    }
   ],
   "source": [
    "from sklearn.metrics import confusion_matrix\n",
    "\n",
    "rs_model_1_1_y_preds = rs_model_1_1.predict(X_test)\n",
    "\n",
    "confusion_matrix(y_test, rs_model_1_1_y_preds)"
   ]
  },
  {
   "cell_type": "code",
   "execution_count": 39,
   "id": "233fc745-7c26-4da6-9d81-ce98cf2fd2f6",
   "metadata": {},
   "outputs": [
    {
     "data": {
      "image/png": "[encoded data removed]",
      "text/plain": [
       "<Figure size 640x480 with 2 Axes>"
      ]
     },
     "metadata": {},
     "output_type": "display_data"
    }
   ],
   "source": [
    "from sklearn.metrics import ConfusionMatrixDisplay\n",
    "\n",
    "ConfusionMatrixDisplay.from_estimator(estimator = rs_model_1_1, X = X_test, y = y_test);"
   ]
  },
  {
   "cell_type": "markdown",
   "id": "2310756d-d2f2-430f-b09c-858e1ea43b46",
   "metadata": {},
   "source": [
    "### On KNN model"
   ]
  },
  {
   "cell_type": "code",
   "execution_count": 41,
   "id": "5ee19d57-d0b0-4545-a82b-4d8f1dd9d2c5",
   "metadata": {},
   "outputs": [],
   "source": [
    "grid_knn = {\n",
    "    'n_neighbors': range(1, 21),  # try values from 1 to 20 for the number of neighbors\n",
    "    'weights': ['uniform', 'distance'],  # weight function used in prediction\n",
    "    'algorithm': ['auto', 'ball_tree', 'kd_tree', 'brute']  # algorithm used to compute nearest neighbors\n",
    "}"
   ]
  },
  {
   "cell_type": "code",
   "execution_count": 42,
   "id": "142fce9e-a54e-4dcb-8528-bb8dc21b3cb6",
   "metadata": {},
   "outputs": [
    {
     "name": "stdout",
     "output_type": "stream",
     "text": [
      "Fitting 5 folds for each of 10 candidates, totalling 50 fits\n",
      "[CV] END .algorithm=kd_tree, n_neighbors=8, weights=distance; total time=   0.0s\n",
      "[CV] END .algorithm=kd_tree, n_neighbors=8, weights=distance; total time=   0.0s\n",
      "[CV] END .algorithm=kd_tree, n_neighbors=8, weights=distance; total time=   0.0s\n",
      "[CV] END .algorithm=kd_tree, n_neighbors=8, weights=distance; total time=   0.0s\n",
      "[CV] END .algorithm=kd_tree, n_neighbors=8, weights=distance; total time=   0.0s\n",
      "[CV] END algorithm=ball_tree, n_neighbors=19, weights=distance; total time=   0.0s\n",
      "[CV] END algorithm=ball_tree, n_neighbors=19, weights=distance; total time=   0.0s\n",
      "[CV] END algorithm=ball_tree, n_neighbors=19, weights=distance; total time=   0.0s\n",
      "[CV] END algorithm=ball_tree, n_neighbors=19, weights=distance; total time=   0.0s\n",
      "[CV] END algorithm=ball_tree, n_neighbors=19, weights=distance; total time=   0.0s\n",
      "[CV] END .....algorithm=auto, n_neighbors=4, weights=uniform; total time=   0.0s\n",
      "[CV] END .....algorithm=auto, n_neighbors=4, weights=uniform; total time=   0.0s\n",
      "[CV] END .....algorithm=auto, n_neighbors=4, weights=uniform; total time=   0.0s\n",
      "[CV] END .....algorithm=auto, n_neighbors=4, weights=uniform; total time=   0.0s\n",
      "[CV] END .....algorithm=auto, n_neighbors=4, weights=uniform; total time=   0.0s\n",
      "[CV] END algorithm=ball_tree, n_neighbors=3, weights=uniform; total time=   0.0s\n",
      "[CV] END algorithm=ball_tree, n_neighbors=3, weights=uniform; total time=   0.0s\n",
      "[CV] END algorithm=ball_tree, n_neighbors=3, weights=uniform; total time=   0.0s\n",
      "[CV] END algorithm=ball_tree, n_neighbors=3, weights=uniform; total time=   0.0s\n",
      "[CV] END algorithm=ball_tree, n_neighbors=3, weights=uniform; total time=   0.0s\n",
      "[CV] END ....algorithm=brute, n_neighbors=7, weights=uniform; total time=   0.0s\n",
      "[CV] END ....algorithm=brute, n_neighbors=7, weights=uniform; total time=   0.0s\n",
      "[CV] END ....algorithm=brute, n_neighbors=7, weights=uniform; total time=   0.0s\n",
      "[CV] END ....algorithm=brute, n_neighbors=7, weights=uniform; total time=   0.0s\n",
      "[CV] END ....algorithm=brute, n_neighbors=7, weights=uniform; total time=   0.0s\n",
      "[CV] END ....algorithm=brute, n_neighbors=2, weights=uniform; total time=   0.0s\n",
      "[CV] END ....algorithm=brute, n_neighbors=2, weights=uniform; total time=   0.0s\n",
      "[CV] END ....algorithm=brute, n_neighbors=2, weights=uniform; total time=   0.0s\n",
      "[CV] END ....algorithm=brute, n_neighbors=2, weights=uniform; total time=   0.0s\n",
      "[CV] END ....algorithm=brute, n_neighbors=2, weights=uniform; total time=   0.0s\n",
      "[CV] END ..algorithm=kd_tree, n_neighbors=6, weights=uniform; total time=   0.0s\n",
      "[CV] END ..algorithm=kd_tree, n_neighbors=6, weights=uniform; total time=   0.0s\n",
      "[CV] END ..algorithm=kd_tree, n_neighbors=6, weights=uniform; total time=   0.0s\n",
      "[CV] END ..algorithm=kd_tree, n_neighbors=6, weights=uniform; total time=   0.0s\n",
      "[CV] END ..algorithm=kd_tree, n_neighbors=6, weights=uniform; total time=   0.0s\n",
      "[CV] END ...algorithm=brute, n_neighbors=6, weights=distance; total time=   0.0s\n",
      "[CV] END ...algorithm=brute, n_neighbors=6, weights=distance; total time=   0.0s\n",
      "[CV] END ...algorithm=brute, n_neighbors=6, weights=distance; total time=   0.0s\n",
      "[CV] END ...algorithm=brute, n_neighbors=6, weights=distance; total time=   0.0s\n",
      "[CV] END ...algorithm=brute, n_neighbors=6, weights=distance; total time=   0.0s\n",
      "[CV] END algorithm=ball_tree, n_neighbors=19, weights=uniform; total time=   0.0s\n",
      "[CV] END algorithm=ball_tree, n_neighbors=19, weights=uniform; total time=   0.0s\n",
      "[CV] END algorithm=ball_tree, n_neighbors=19, weights=uniform; total time=   0.0s\n",
      "[CV] END algorithm=ball_tree, n_neighbors=19, weights=uniform; total time=   0.0s\n",
      "[CV] END algorithm=ball_tree, n_neighbors=19, weights=uniform; total time=   0.0s\n",
      "[CV] END ..algorithm=kd_tree, n_neighbors=7, weights=uniform; total time=   0.0s\n",
      "[CV] END ..algorithm=kd_tree, n_neighbors=7, weights=uniform; total time=   0.0s\n",
      "[CV] END ..algorithm=kd_tree, n_neighbors=7, weights=uniform; total time=   0.0s\n",
      "[CV] END ..algorithm=kd_tree, n_neighbors=7, weights=uniform; total time=   0.0s\n",
      "[CV] END ..algorithm=kd_tree, n_neighbors=7, weights=uniform; total time=   0.0s\n"
     ]
    }
   ],
   "source": [
    "np.random.seed(42)\n",
    "\n",
    "#Split data into train and test set\n",
    "from sklearn.model_selection import train_test_split\n",
    "\n",
    "X_train, X_test, y_train, y_test = train_test_split(X, y, test_size=0.3)\n",
    "\n",
    "# Define model\n",
    "model_2_1 = KNeighborsClassifier(n_jobs = -1)\n",
    "\n",
    "# Setup RandomizedSearchCV\n",
    "rs_model_2_1 = RandomizedSearchCV(estimator = model_2_1,\n",
    "                           param_distributions = grid_knn,\n",
    "                           n_iter = 10, #The number of models t try\n",
    "                           cv = 5,\n",
    "                           verbose = 2)\n",
    "#Fit Randomized model\n",
    "rs_model_2_1.fit(X_train, y_train);"
   ]
  },
  {
   "cell_type": "code",
   "execution_count": 43,
   "id": "e78649e3-bcf5-4483-8edc-9147cd012e10",
   "metadata": {},
   "outputs": [
    {
     "data": {
      "text/plain": [
       "{'weights': 'distance', 'n_neighbors': 19, 'algorithm': 'ball_tree'}"
      ]
     },
     "execution_count": 43,
     "metadata": {},
     "output_type": "execute_result"
    }
   ],
   "source": [
    "rs_model_2_1.best_params_"
   ]
  },
  {
   "cell_type": "code",
   "execution_count": 44,
   "id": "39438564-a052-4b95-84ba-e34fb367be2d",
   "metadata": {},
   "outputs": [
    {
     "data": {
      "text/plain": [
       "array([[1340,   10],\n",
       "       [ 140,   10]], dtype=int64)"
      ]
     },
     "execution_count": 44,
     "metadata": {},
     "output_type": "execute_result"
    }
   ],
   "source": [
    "# To make prediction with the best hyperparameter and show matrix\n",
    "\n",
    "rs_model_2_1_y_preds = rs_model_2_1.predict(X_test)\n",
    "\n",
    "confusion_matrix(y_test, rs_model_2_1_y_preds)"
   ]
  },
  {
   "cell_type": "code",
   "execution_count": 45,
   "id": "5532aebd-1bdf-46c3-822b-5cfe6d038ff8",
   "metadata": {},
   "outputs": [
    {
     "data": {
      "image/png": "[encoded data removed]",
      "text/plain": [
       "<Figure size 640x480 with 2 Axes>"
      ]
     },
     "metadata": {},
     "output_type": "display_data"
    }
   ],
   "source": [
    "ConfusionMatrixDisplay.from_estimator(estimator = rs_model_2_1, X = X_test, y = y_test);"
   ]
  },
  {
   "cell_type": "code",
   "execution_count": 57,
   "id": "a7da8c47-e596-4c87-ad1b-e2fafde7317d",
   "metadata": {},
   "outputs": [],
   "source": [
    "from sklearn.model_selection import GridSearchCV\n",
    "\n",
    "grid_knn = {\n",
    "    'n_neighbors': range(1, 21),  # try values from 1 to 20 for the number of neighbors\n",
    "    'weights': ['uniform', 'distance'],  # weight function used in prediction\n",
    "    'algorithm': ['auto', 'ball_tree', 'kd_tree', 'brute']  # algorithm used to compute nearest neighbors\n",
    "}"
   ]
  },
  {
   "cell_type": "code",
   "execution_count": 58,
   "id": "18ecc5ad-c1d0-46b5-939f-3fcd49d2c671",
   "metadata": {},
   "outputs": [
    {
     "name": "stdout",
     "output_type": "stream",
     "text": [
      "Fitting 5 folds for each of 160 candidates, totalling 800 fits\n",
      "[CV] END .....algorithm=auto, n_neighbors=1, weights=uniform; total time=   0.0s\n",
      "[CV] END .....algorithm=auto, n_neighbors=1, weights=uniform; total time=   0.0s\n",
      "[CV] END .....algorithm=auto, n_neighbors=1, weights=uniform; total time=   0.0s\n",
      "[CV] END .....algorithm=auto, n_neighbors=1, weights=uniform; total time=   0.0s\n",
      "[CV] END .....algorithm=auto, n_neighbors=1, weights=uniform; total time=   0.0s\n",
      "[CV] END ....algorithm=auto, n_neighbors=1, weights=distance; total time=   0.0s\n",
      "[CV] END ....algorithm=auto, n_neighbors=1, weights=distance; total time=   0.0s\n",
      "[CV] END ....algorithm=auto, n_neighbors=1, weights=distance; total time=   0.0s\n",
      "[CV] END ....algorithm=auto, n_neighbors=1, weights=distance; total time=   0.0s\n",
      "[CV] END ....algorithm=auto, n_neighbors=1, weights=distance; total time=   0.0s\n",
      "[CV] END .....algorithm=auto, n_neighbors=2, weights=uniform; total time=   0.0s\n",
      "[CV] END .....algorithm=auto, n_neighbors=2, weights=uniform; total time=   0.0s\n",
      "[CV] END .....algorithm=auto, n_neighbors=2, weights=uniform; total time=   0.0s\n",
      "[CV] END .....algorithm=auto, n_neighbors=2, weights=uniform; total time=   0.0s\n",
      "[CV] END .....algorithm=auto, n_neighbors=2, weights=uniform; total time=   0.0s\n",
      "[CV] END ....algorithm=auto, n_neighbors=2, weights=distance; total time=   0.0s\n",
      "[CV] END ....algorithm=auto, n_neighbors=2, weights=distance; total time=   0.0s\n",
      "[CV] END ....algorithm=auto, n_neighbors=2, weights=distance; total time=   0.0s\n",
      "[CV] END ....algorithm=auto, n_neighbors=2, weights=distance; total time=   0.0s\n",
      "[CV] END ....algorithm=auto, n_neighbors=2, weights=distance; total time=   0.0s\n",
      "[CV] END .....algorithm=auto, n_neighbors=3, weights=uniform; total time=   0.0s\n",
      "[CV] END .....algorithm=auto, n_neighbors=3, weights=uniform; total time=   0.0s\n",
      "[CV] END .....algorithm=auto, n_neighbors=3, weights=uniform; total time=   0.0s\n",
      "[CV] END .....algorithm=auto, n_neighbors=3, weights=uniform; total time=   0.0s\n",
      "[CV] END .....algorithm=auto, n_neighbors=3, weights=uniform; total time=   0.0s\n",
      "[CV] END ....algorithm=auto, n_neighbors=3, weights=distance; total time=   0.0s\n",
      "[CV] END ....algorithm=auto, n_neighbors=3, weights=distance; total time=   0.0s\n",
      "[CV] END ....algorithm=auto, n_neighbors=3, weights=distance; total time=   0.0s\n",
      "[CV] END ....algorithm=auto, n_neighbors=3, weights=distance; total time=   0.0s\n",
      "[CV] END ....algorithm=auto, n_neighbors=3, weights=distance; total time=   0.0s\n",
      "[CV] END .....algorithm=auto, n_neighbors=4, weights=uniform; total time=   0.0s\n",
      "[CV] END .....algorithm=auto, n_neighbors=4, weights=uniform; total time=   0.0s\n",
      "[CV] END .....algorithm=auto, n_neighbors=4, weights=uniform; total time=   0.0s\n",
      "[CV] END .....algorithm=auto, n_neighbors=4, weights=uniform; total time=   0.0s\n",
      "[CV] END .....algorithm=auto, n_neighbors=4, weights=uniform; total time=   0.0s\n",
      "[CV] END ....algorithm=auto, n_neighbors=4, weights=distance; total time=   0.0s\n",
      "[CV] END ....algorithm=auto, n_neighbors=4, weights=distance; total time=   0.0s\n",
      "[CV] END ....algorithm=auto, n_neighbors=4, weights=distance; total time=   0.0s\n",
      "[CV] END ....algorithm=auto, n_neighbors=4, weights=distance; total time=   0.0s\n",
      "[CV] END ....algorithm=auto, n_neighbors=4, weights=distance; total time=   0.0s\n",
      "[CV] END .....algorithm=auto, n_neighbors=5, weights=uniform; total time=   0.0s\n",
      "[CV] END .....algorithm=auto, n_neighbors=5, weights=uniform; total time=   0.0s\n",
      "[CV] END .....algorithm=auto, n_neighbors=5, weights=uniform; total time=   0.0s\n",
      "[CV] END .....algorithm=auto, n_neighbors=5, weights=uniform; total time=   0.0s\n",
      "[CV] END .....algorithm=auto, n_neighbors=5, weights=uniform; total time=   0.0s\n",
      "[CV] END ....algorithm=auto, n_neighbors=5, weights=distance; total time=   0.0s\n",
      "[CV] END ....algorithm=auto, n_neighbors=5, weights=distance; total time=   0.0s\n",
      "[CV] END ....algorithm=auto, n_neighbors=5, weights=distance; total time=   0.0s\n",
      "[CV] END ....algorithm=auto, n_neighbors=5, weights=distance; total time=   0.0s\n",
      "[CV] END ....algorithm=auto, n_neighbors=5, weights=distance; total time=   0.0s\n",
      "[CV] END .....algorithm=auto, n_neighbors=6, weights=uniform; total time=   0.0s\n",
      "[CV] END .....algorithm=auto, n_neighbors=6, weights=uniform; total time=   0.0s\n",
      "[CV] END .....algorithm=auto, n_neighbors=6, weights=uniform; total time=   0.0s\n",
      "[CV] END .....algorithm=auto, n_neighbors=6, weights=uniform; total time=   0.0s\n",
      "[CV] END .....algorithm=auto, n_neighbors=6, weights=uniform; total time=   0.0s\n",
      "[CV] END ....algorithm=auto, n_neighbors=6, weights=distance; total time=   0.0s\n",
      "[CV] END ....algorithm=auto, n_neighbors=6, weights=distance; total time=   0.0s\n",
      "[CV] END ....algorithm=auto, n_neighbors=6, weights=distance; total time=   0.0s\n",
      "[CV] END ....algorithm=auto, n_neighbors=6, weights=distance; total time=   0.0s\n",
      "[CV] END ....algorithm=auto, n_neighbors=6, weights=distance; total time=   0.0s\n",
      "[CV] END .....algorithm=auto, n_neighbors=7, weights=uniform; total time=   0.0s\n",
      "[CV] END .....algorithm=auto, n_neighbors=7, weights=uniform; total time=   0.0s\n",
      "[CV] END .....algorithm=auto, n_neighbors=7, weights=uniform; total time=   0.0s\n",
      "[CV] END .....algorithm=auto, n_neighbors=7, weights=uniform; total time=   0.0s\n",
      "[CV] END .....algorithm=auto, n_neighbors=7, weights=uniform; total time=   0.0s\n",
      "[CV] END ....algorithm=auto, n_neighbors=7, weights=distance; total time=   0.0s\n",
      "[CV] END ....algorithm=auto, n_neighbors=7, weights=distance; total time=   0.0s\n",
      "[CV] END ....algorithm=auto, n_neighbors=7, weights=distance; total time=   0.0s\n",
      "[CV] END ....algorithm=auto, n_neighbors=7, weights=distance; total time=   0.0s\n",
      "[CV] END ....algorithm=auto, n_neighbors=7, weights=distance; total time=   0.0s\n",
      "[CV] END .....algorithm=auto, n_neighbors=8, weights=uniform; total time=   0.0s\n",
      "[CV] END .....algorithm=auto, n_neighbors=8, weights=uniform; total time=   0.0s\n",
      "[CV] END .....algorithm=auto, n_neighbors=8, weights=uniform; total time=   0.0s\n",
      "[CV] END .....algorithm=auto, n_neighbors=8, weights=uniform; total time=   0.0s\n",
      "[CV] END .....algorithm=auto, n_neighbors=8, weights=uniform; total time=   0.0s\n",
      "[CV] END ....algorithm=auto, n_neighbors=8, weights=distance; total time=   0.0s\n",
      "[CV] END ....algorithm=auto, n_neighbors=8, weights=distance; total time=   0.0s\n",
      "[CV] END ....algorithm=auto, n_neighbors=8, weights=distance; total time=   0.0s\n",
      "[CV] END ....algorithm=auto, n_neighbors=8, weights=distance; total time=   0.0s\n",
      "[CV] END ....algorithm=auto, n_neighbors=8, weights=distance; total time=   0.0s\n",
      "[CV] END .....algorithm=auto, n_neighbors=9, weights=uniform; total time=   0.0s\n",
      "[CV] END .....algorithm=auto, n_neighbors=9, weights=uniform; total time=   0.0s\n",
      "[CV] END .....algorithm=auto, n_neighbors=9, weights=uniform; total time=   0.0s\n",
      "[CV] END .....algorithm=auto, n_neighbors=9, weights=uniform; total time=   0.0s\n",
      "[CV] END .....algorithm=auto, n_neighbors=9, weights=uniform; total time=   0.0s\n",
      "[CV] END ....algorithm=auto, n_neighbors=9, weights=distance; total time=   0.0s\n",
      "[CV] END ....algorithm=auto, n_neighbors=9, weights=distance; total time=   0.0s\n",
      "[CV] END ....algorithm=auto, n_neighbors=9, weights=distance; total time=   0.0s\n",
      "[CV] END ....algorithm=auto, n_neighbors=9, weights=distance; total time=   0.0s\n",
      "[CV] END ....algorithm=auto, n_neighbors=9, weights=distance; total time=   0.0s\n",
      "[CV] END ....algorithm=auto, n_neighbors=10, weights=uniform; total time=   0.0s\n",
      "[CV] END ....algorithm=auto, n_neighbors=10, weights=uniform; total time=   0.0s\n",
      "[CV] END ....algorithm=auto, n_neighbors=10, weights=uniform; total time=   0.0s\n",
      "[CV] END ....algorithm=auto, n_neighbors=10, weights=uniform; total time=   0.0s\n",
      "[CV] END ....algorithm=auto, n_neighbors=10, weights=uniform; total time=   0.0s\n",
      "[CV] END ...algorithm=auto, n_neighbors=10, weights=distance; total time=   0.0s\n",
      "[CV] END ...algorithm=auto, n_neighbors=10, weights=distance; total time=   0.0s\n",
      "[CV] END ...algorithm=auto, n_neighbors=10, weights=distance; total time=   0.0s\n",
      "[CV] END ...algorithm=auto, n_neighbors=10, weights=distance; total time=   0.0s\n",
      "[CV] END ...algorithm=auto, n_neighbors=10, weights=distance; total time=   0.0s\n",
      "[CV] END ....algorithm=auto, n_neighbors=11, weights=uniform; total time=   0.0s\n",
      "[CV] END ....algorithm=auto, n_neighbors=11, weights=uniform; total time=   0.0s\n",
      "[CV] END ....algorithm=auto, n_neighbors=11, weights=uniform; total time=   0.0s\n",
      "[CV] END ....algorithm=auto, n_neighbors=11, weights=uniform; total time=   0.0s\n",
      "[CV] END ....algorithm=auto, n_neighbors=11, weights=uniform; total time=   0.0s\n",
      "[CV] END ...algorithm=auto, n_neighbors=11, weights=distance; total time=   0.0s\n",
      "[CV] END ...algorithm=auto, n_neighbors=11, weights=distance; total time=   0.0s\n",
      "[CV] END ...algorithm=auto, n_neighbors=11, weights=distance; total time=   0.0s\n",
      "[CV] END ...algorithm=auto, n_neighbors=11, weights=distance; total time=   0.0s\n",
      "[CV] END ...algorithm=auto, n_neighbors=11, weights=distance; total time=   0.0s\n",
      "[CV] END ....algorithm=auto, n_neighbors=12, weights=uniform; total time=   0.0s\n",
      "[CV] END ....algorithm=auto, n_neighbors=12, weights=uniform; total time=   0.0s\n",
      "[CV] END ....algorithm=auto, n_neighbors=12, weights=uniform; total time=   0.0s\n",
      "[CV] END ....algorithm=auto, n_neighbors=12, weights=uniform; total time=   0.0s\n",
      "[CV] END ....algorithm=auto, n_neighbors=12, weights=uniform; total time=   0.0s\n",
      "[CV] END ...algorithm=auto, n_neighbors=12, weights=distance; total time=   0.0s\n",
      "[CV] END ...algorithm=auto, n_neighbors=12, weights=distance; total time=   0.0s\n",
      "[CV] END ...algorithm=auto, n_neighbors=12, weights=distance; total time=   0.0s\n",
      "[CV] END ...algorithm=auto, n_neighbors=12, weights=distance; total time=   0.0s\n",
      "[CV] END ...algorithm=auto, n_neighbors=12, weights=distance; total time=   0.0s\n",
      "[CV] END ....algorithm=auto, n_neighbors=13, weights=uniform; total time=   0.0s\n",
      "[CV] END ....algorithm=auto, n_neighbors=13, weights=uniform; total time=   0.0s\n",
      "[CV] END ....algorithm=auto, n_neighbors=13, weights=uniform; total time=   0.0s\n",
      "[CV] END ....algorithm=auto, n_neighbors=13, weights=uniform; total time=   0.0s\n",
      "[CV] END ....algorithm=auto, n_neighbors=13, weights=uniform; total time=   0.0s\n",
      "[CV] END ...algorithm=auto, n_neighbors=13, weights=distance; total time=   0.0s\n",
      "[CV] END ...algorithm=auto, n_neighbors=13, weights=distance; total time=   0.0s\n",
      "[CV] END ...algorithm=auto, n_neighbors=13, weights=distance; total time=   0.0s\n",
      "[CV] END ...algorithm=auto, n_neighbors=13, weights=distance; total time=   0.0s\n",
      "[CV] END ...algorithm=auto, n_neighbors=13, weights=distance; total time=   0.0s\n",
      "[CV] END ....algorithm=auto, n_neighbors=14, weights=uniform; total time=   0.0s\n",
      "[CV] END ....algorithm=auto, n_neighbors=14, weights=uniform; total time=   0.0s\n",
      "[CV] END ....algorithm=auto, n_neighbors=14, weights=uniform; total time=   0.0s\n",
      "[CV] END ....algorithm=auto, n_neighbors=14, weights=uniform; total time=   0.0s\n",
      "[CV] END ....algorithm=auto, n_neighbors=14, weights=uniform; total time=   0.0s\n",
      "[CV] END ...algorithm=auto, n_neighbors=14, weights=distance; total time=   0.0s\n",
      "[CV] END ...algorithm=auto, n_neighbors=14, weights=distance; total time=   0.0s\n",
      "[CV] END ...algorithm=auto, n_neighbors=14, weights=distance; total time=   0.0s\n",
      "[CV] END ...algorithm=auto, n_neighbors=14, weights=distance; total time=   0.0s\n",
      "[CV] END ...algorithm=auto, n_neighbors=14, weights=distance; total time=   0.0s\n",
      "[CV] END ....algorithm=auto, n_neighbors=15, weights=uniform; total time=   0.0s\n",
      "[CV] END ....algorithm=auto, n_neighbors=15, weights=uniform; total time=   0.0s\n",
      "[CV] END ....algorithm=auto, n_neighbors=15, weights=uniform; total time=   0.0s\n",
      "[CV] END ....algorithm=auto, n_neighbors=15, weights=uniform; total time=   0.0s\n",
      "[CV] END ....algorithm=auto, n_neighbors=15, weights=uniform; total time=   0.0s\n",
      "[CV] END ...algorithm=auto, n_neighbors=15, weights=distance; total time=   0.0s\n",
      "[CV] END ...algorithm=auto, n_neighbors=15, weights=distance; total time=   0.0s\n",
      "[CV] END ...algorithm=auto, n_neighbors=15, weights=distance; total time=   0.0s\n",
      "[CV] END ...algorithm=auto, n_neighbors=15, weights=distance; total time=   0.0s\n",
      "[CV] END ...algorithm=auto, n_neighbors=15, weights=distance; total time=   0.0s\n",
      "[CV] END ....algorithm=auto, n_neighbors=16, weights=uniform; total time=   0.0s\n",
      "[CV] END ....algorithm=auto, n_neighbors=16, weights=uniform; total time=   0.0s\n",
      "[CV] END ....algorithm=auto, n_neighbors=16, weights=uniform; total time=   0.0s\n",
      "[CV] END ....algorithm=auto, n_neighbors=16, weights=uniform; total time=   0.0s\n",
      "[CV] END ....algorithm=auto, n_neighbors=16, weights=uniform; total time=   0.0s\n",
      "[CV] END ...algorithm=auto, n_neighbors=16, weights=distance; total time=   0.0s\n",
      "[CV] END ...algorithm=auto, n_neighbors=16, weights=distance; total time=   0.0s\n",
      "[CV] END ...algorithm=auto, n_neighbors=16, weights=distance; total time=   0.0s\n",
      "[CV] END ...algorithm=auto, n_neighbors=16, weights=distance; total time=   0.0s\n",
      "[CV] END ...algorithm=auto, n_neighbors=16, weights=distance; total time=   0.0s\n",
      "[CV] END ....algorithm=auto, n_neighbors=17, weights=uniform; total time=   0.0s\n",
      "[CV] END ....algorithm=auto, n_neighbors=17, weights=uniform; total time=   0.0s\n",
      "[CV] END ....algorithm=auto, n_neighbors=17, weights=uniform; total time=   0.0s\n",
      "[CV] END ....algorithm=auto, n_neighbors=17, weights=uniform; total time=   0.0s\n",
      "[CV] END ....algorithm=auto, n_neighbors=17, weights=uniform; total time=   0.0s\n",
      "[CV] END ...algorithm=auto, n_neighbors=17, weights=distance; total time=   0.0s\n",
      "[CV] END ...algorithm=auto, n_neighbors=17, weights=distance; total time=   0.0s\n",
      "[CV] END ...algorithm=auto, n_neighbors=17, weights=distance; total time=   0.0s\n",
      "[CV] END ...algorithm=auto, n_neighbors=17, weights=distance; total time=   0.0s\n",
      "[CV] END ...algorithm=auto, n_neighbors=17, weights=distance; total time=   0.0s\n",
      "[CV] END ....algorithm=auto, n_neighbors=18, weights=uniform; total time=   0.0s\n",
      "[CV] END ....algorithm=auto, n_neighbors=18, weights=uniform; total time=   0.0s\n",
      "[CV] END ....algorithm=auto, n_neighbors=18, weights=uniform; total time=   0.0s\n",
      "[CV] END ....algorithm=auto, n_neighbors=18, weights=uniform; total time=   0.0s\n",
      "[CV] END ....algorithm=auto, n_neighbors=18, weights=uniform; total time=   0.0s\n",
      "[CV] END ...algorithm=auto, n_neighbors=18, weights=distance; total time=   0.0s\n",
      "[CV] END ...algorithm=auto, n_neighbors=18, weights=distance; total time=   0.0s\n",
      "[CV] END ...algorithm=auto, n_neighbors=18, weights=distance; total time=   0.0s\n",
      "[CV] END ...algorithm=auto, n_neighbors=18, weights=distance; total time=   0.0s\n",
      "[CV] END ...algorithm=auto, n_neighbors=18, weights=distance; total time=   0.0s\n",
      "[CV] END ....algorithm=auto, n_neighbors=19, weights=uniform; total time=   0.0s\n",
      "[CV] END ....algorithm=auto, n_neighbors=19, weights=uniform; total time=   0.0s\n",
      "[CV] END ....algorithm=auto, n_neighbors=19, weights=uniform; total time=   0.0s\n",
      "[CV] END ....algorithm=auto, n_neighbors=19, weights=uniform; total time=   0.0s\n",
      "[CV] END ....algorithm=auto, n_neighbors=19, weights=uniform; total time=   0.0s\n",
      "[CV] END ...algorithm=auto, n_neighbors=19, weights=distance; total time=   0.0s\n",
      "[CV] END ...algorithm=auto, n_neighbors=19, weights=distance; total time=   0.0s\n",
      "[CV] END ...algorithm=auto, n_neighbors=19, weights=distance; total time=   0.0s\n",
      "[CV] END ...algorithm=auto, n_neighbors=19, weights=distance; total time=   0.0s\n",
      "[CV] END ...algorithm=auto, n_neighbors=19, weights=distance; total time=   0.0s\n",
      "[CV] END ....algorithm=auto, n_neighbors=20, weights=uniform; total time=   0.0s\n",
      "[CV] END ....algorithm=auto, n_neighbors=20, weights=uniform; total time=   0.0s\n",
      "[CV] END ....algorithm=auto, n_neighbors=20, weights=uniform; total time=   0.0s\n",
      "[CV] END ....algorithm=auto, n_neighbors=20, weights=uniform; total time=   0.0s\n",
      "[CV] END ....algorithm=auto, n_neighbors=20, weights=uniform; total time=   0.0s\n",
      "[CV] END ...algorithm=auto, n_neighbors=20, weights=distance; total time=   0.0s\n",
      "[CV] END ...algorithm=auto, n_neighbors=20, weights=distance; total time=   0.0s\n",
      "[CV] END ...algorithm=auto, n_neighbors=20, weights=distance; total time=   0.0s\n",
      "[CV] END ...algorithm=auto, n_neighbors=20, weights=distance; total time=   0.0s\n",
      "[CV] END ...algorithm=auto, n_neighbors=20, weights=distance; total time=   0.0s\n",
      "[CV] END algorithm=ball_tree, n_neighbors=1, weights=uniform; total time=   0.0s\n",
      "[CV] END algorithm=ball_tree, n_neighbors=1, weights=uniform; total time=   0.0s\n",
      "[CV] END algorithm=ball_tree, n_neighbors=1, weights=uniform; total time=   0.0s\n",
      "[CV] END algorithm=ball_tree, n_neighbors=1, weights=uniform; total time=   0.0s\n",
      "[CV] END algorithm=ball_tree, n_neighbors=1, weights=uniform; total time=   0.0s\n",
      "[CV] END algorithm=ball_tree, n_neighbors=1, weights=distance; total time=   0.0s\n",
      "[CV] END algorithm=ball_tree, n_neighbors=1, weights=distance; total time=   0.0s\n",
      "[CV] END algorithm=ball_tree, n_neighbors=1, weights=distance; total time=   0.0s\n",
      "[CV] END algorithm=ball_tree, n_neighbors=1, weights=distance; total time=   0.0s\n",
      "[CV] END algorithm=ball_tree, n_neighbors=1, weights=distance; total time=   0.0s\n",
      "[CV] END algorithm=ball_tree, n_neighbors=2, weights=uniform; total time=   0.0s\n",
      "[CV] END algorithm=ball_tree, n_neighbors=2, weights=uniform; total time=   0.0s\n",
      "[CV] END algorithm=ball_tree, n_neighbors=2, weights=uniform; total time=   0.0s\n",
      "[CV] END algorithm=ball_tree, n_neighbors=2, weights=uniform; total time=   0.0s\n",
      "[CV] END algorithm=ball_tree, n_neighbors=2, weights=uniform; total time=   0.0s\n",
      "[CV] END algorithm=ball_tree, n_neighbors=2, weights=distance; total time=   0.0s\n",
      "[CV] END algorithm=ball_tree, n_neighbors=2, weights=distance; total time=   0.0s\n",
      "[CV] END algorithm=ball_tree, n_neighbors=2, weights=distance; total time=   0.0s\n",
      "[CV] END algorithm=ball_tree, n_neighbors=2, weights=distance; total time=   0.0s\n",
      "[CV] END algorithm=ball_tree, n_neighbors=2, weights=distance; total time=   0.0s\n",
      "[CV] END algorithm=ball_tree, n_neighbors=3, weights=uniform; total time=   0.0s\n",
      "[CV] END algorithm=ball_tree, n_neighbors=3, weights=uniform; total time=   0.0s\n",
      "[CV] END algorithm=ball_tree, n_neighbors=3, weights=uniform; total time=   0.0s\n",
      "[CV] END algorithm=ball_tree, n_neighbors=3, weights=uniform; total time=   0.0s\n",
      "[CV] END algorithm=ball_tree, n_neighbors=3, weights=uniform; total time=   0.0s\n",
      "[CV] END algorithm=ball_tree, n_neighbors=3, weights=distance; total time=   0.0s\n",
      "[CV] END algorithm=ball_tree, n_neighbors=3, weights=distance; total time=   0.0s\n",
      "[CV] END algorithm=ball_tree, n_neighbors=3, weights=distance; total time=   0.0s\n",
      "[CV] END algorithm=ball_tree, n_neighbors=3, weights=distance; total time=   0.0s\n",
      "[CV] END algorithm=ball_tree, n_neighbors=3, weights=distance; total time=   0.0s\n",
      "[CV] END algorithm=ball_tree, n_neighbors=4, weights=uniform; total time=   0.0s\n",
      "[CV] END algorithm=ball_tree, n_neighbors=4, weights=uniform; total time=   0.0s\n",
      "[CV] END algorithm=ball_tree, n_neighbors=4, weights=uniform; total time=   0.0s\n",
      "[CV] END algorithm=ball_tree, n_neighbors=4, weights=uniform; total time=   0.0s\n",
      "[CV] END algorithm=ball_tree, n_neighbors=4, weights=uniform; total time=   0.0s\n",
      "[CV] END algorithm=ball_tree, n_neighbors=4, weights=distance; total time=   0.0s\n",
      "[CV] END algorithm=ball_tree, n_neighbors=4, weights=distance; total time=   0.0s\n",
      "[CV] END algorithm=ball_tree, n_neighbors=4, weights=distance; total time=   0.0s\n",
      "[CV] END algorithm=ball_tree, n_neighbors=4, weights=distance; total time=   0.0s\n",
      "[CV] END algorithm=ball_tree, n_neighbors=4, weights=distance; total time=   0.0s\n",
      "[CV] END algorithm=ball_tree, n_neighbors=5, weights=uniform; total time=   0.0s\n",
      "[CV] END algorithm=ball_tree, n_neighbors=5, weights=uniform; total time=   0.0s\n",
      "[CV] END algorithm=ball_tree, n_neighbors=5, weights=uniform; total time=   0.0s\n",
      "[CV] END algorithm=ball_tree, n_neighbors=5, weights=uniform; total time=   0.0s\n",
      "[CV] END algorithm=ball_tree, n_neighbors=5, weights=uniform; total time=   0.0s\n",
      "[CV] END algorithm=ball_tree, n_neighbors=5, weights=distance; total time=   0.0s\n",
      "[CV] END algorithm=ball_tree, n_neighbors=5, weights=distance; total time=   0.0s\n",
      "[CV] END algorithm=ball_tree, n_neighbors=5, weights=distance; total time=   0.0s\n",
      "[CV] END algorithm=ball_tree, n_neighbors=5, weights=distance; total time=   0.0s\n",
      "[CV] END algorithm=ball_tree, n_neighbors=5, weights=distance; total time=   0.0s\n",
      "[CV] END algorithm=ball_tree, n_neighbors=6, weights=uniform; total time=   0.0s\n",
      "[CV] END algorithm=ball_tree, n_neighbors=6, weights=uniform; total time=   0.0s\n",
      "[CV] END algorithm=ball_tree, n_neighbors=6, weights=uniform; total time=   0.0s\n",
      "[CV] END algorithm=ball_tree, n_neighbors=6, weights=uniform; total time=   0.0s\n",
      "[CV] END algorithm=ball_tree, n_neighbors=6, weights=uniform; total time=   0.0s\n",
      "[CV] END algorithm=ball_tree, n_neighbors=6, weights=distance; total time=   0.0s\n",
      "[CV] END algorithm=ball_tree, n_neighbors=6, weights=distance; total time=   0.0s\n",
      "[CV] END algorithm=ball_tree, n_neighbors=6, weights=distance; total time=   0.0s\n",
      "[CV] END algorithm=ball_tree, n_neighbors=6, weights=distance; total time=   0.0s\n",
      "[CV] END algorithm=ball_tree, n_neighbors=6, weights=distance; total time=   0.0s\n",
      "[CV] END algorithm=ball_tree, n_neighbors=7, weights=uniform; total time=   0.0s\n",
      "[CV] END algorithm=ball_tree, n_neighbors=7, weights=uniform; total time=   0.0s\n",
      "[CV] END algorithm=ball_tree, n_neighbors=7, weights=uniform; total time=   0.0s\n",
      "[CV] END algorithm=ball_tree, n_neighbors=7, weights=uniform; total time=   0.0s\n",
      "[CV] END algorithm=ball_tree, n_neighbors=7, weights=uniform; total time=   0.0s\n",
      "[CV] END algorithm=ball_tree, n_neighbors=7, weights=distance; total time=   0.0s\n",
      "[CV] END algorithm=ball_tree, n_neighbors=7, weights=distance; total time=   0.0s\n",
      "[CV] END algorithm=ball_tree, n_neighbors=7, weights=distance; total time=   0.0s\n",
      "[CV] END algorithm=ball_tree, n_neighbors=7, weights=distance; total time=   0.0s\n",
      "[CV] END algorithm=ball_tree, n_neighbors=7, weights=distance; total time=   0.0s\n",
      "[CV] END algorithm=ball_tree, n_neighbors=8, weights=uniform; total time=   0.0s\n",
      "[CV] END algorithm=ball_tree, n_neighbors=8, weights=uniform; total time=   0.0s\n",
      "[CV] END algorithm=ball_tree, n_neighbors=8, weights=uniform; total time=   0.0s\n",
      "[CV] END algorithm=ball_tree, n_neighbors=8, weights=uniform; total time=   0.0s\n",
      "[CV] END algorithm=ball_tree, n_neighbors=8, weights=uniform; total time=   0.0s\n",
      "[CV] END algorithm=ball_tree, n_neighbors=8, weights=distance; total time=   0.0s\n",
      "[CV] END algorithm=ball_tree, n_neighbors=8, weights=distance; total time=   0.0s\n",
      "[CV] END algorithm=ball_tree, n_neighbors=8, weights=distance; total time=   0.0s\n",
      "[CV] END algorithm=ball_tree, n_neighbors=8, weights=distance; total time=   0.0s\n",
      "[CV] END algorithm=ball_tree, n_neighbors=8, weights=distance; total time=   0.0s\n",
      "[CV] END algorithm=ball_tree, n_neighbors=9, weights=uniform; total time=   0.0s\n",
      "[CV] END algorithm=ball_tree, n_neighbors=9, weights=uniform; total time=   0.0s\n",
      "[CV] END algorithm=ball_tree, n_neighbors=9, weights=uniform; total time=   0.0s\n",
      "[CV] END algorithm=ball_tree, n_neighbors=9, weights=uniform; total time=   0.0s\n",
      "[CV] END algorithm=ball_tree, n_neighbors=9, weights=uniform; total time=   0.0s\n",
      "[CV] END algorithm=ball_tree, n_neighbors=9, weights=distance; total time=   0.0s\n",
      "[CV] END algorithm=ball_tree, n_neighbors=9, weights=distance; total time=   0.0s\n",
      "[CV] END algorithm=ball_tree, n_neighbors=9, weights=distance; total time=   0.0s\n",
      "[CV] END algorithm=ball_tree, n_neighbors=9, weights=distance; total time=   0.0s\n",
      "[CV] END algorithm=ball_tree, n_neighbors=9, weights=distance; total time=   0.0s\n",
      "[CV] END algorithm=ball_tree, n_neighbors=10, weights=uniform; total time=   0.0s\n",
      "[CV] END algorithm=ball_tree, n_neighbors=10, weights=uniform; total time=   0.0s\n",
      "[CV] END algorithm=ball_tree, n_neighbors=10, weights=uniform; total time=   0.0s\n",
      "[CV] END algorithm=ball_tree, n_neighbors=10, weights=uniform; total time=   0.0s\n",
      "[CV] END algorithm=ball_tree, n_neighbors=10, weights=uniform; total time=   0.0s\n",
      "[CV] END algorithm=ball_tree, n_neighbors=10, weights=distance; total time=   0.0s\n",
      "[CV] END algorithm=ball_tree, n_neighbors=10, weights=distance; total time=   0.0s\n",
      "[CV] END algorithm=ball_tree, n_neighbors=10, weights=distance; total time=   0.0s\n",
      "[CV] END algorithm=ball_tree, n_neighbors=10, weights=distance; total time=   0.0s\n",
      "[CV] END algorithm=ball_tree, n_neighbors=10, weights=distance; total time=   0.0s\n",
      "[CV] END algorithm=ball_tree, n_neighbors=11, weights=uniform; total time=   0.0s\n",
      "[CV] END algorithm=ball_tree, n_neighbors=11, weights=uniform; total time=   0.0s\n",
      "[CV] END algorithm=ball_tree, n_neighbors=11, weights=uniform; total time=   0.0s\n",
      "[CV] END algorithm=ball_tree, n_neighbors=11, weights=uniform; total time=   0.0s\n",
      "[CV] END algorithm=ball_tree, n_neighbors=11, weights=uniform; total time=   0.0s\n",
      "[CV] END algorithm=ball_tree, n_neighbors=11, weights=distance; total time=   0.0s\n",
      "[CV] END algorithm=ball_tree, n_neighbors=11, weights=distance; total time=   0.0s\n",
      "[CV] END algorithm=ball_tree, n_neighbors=11, weights=distance; total time=   0.0s\n",
      "[CV] END algorithm=ball_tree, n_neighbors=11, weights=distance; total time=   0.0s\n",
      "[CV] END algorithm=ball_tree, n_neighbors=11, weights=distance; total time=   0.0s\n",
      "[CV] END algorithm=ball_tree, n_neighbors=12, weights=uniform; total time=   0.0s\n",
      "[CV] END algorithm=ball_tree, n_neighbors=12, weights=uniform; total time=   0.0s\n",
      "[CV] END algorithm=ball_tree, n_neighbors=12, weights=uniform; total time=   0.0s\n",
      "[CV] END algorithm=ball_tree, n_neighbors=12, weights=uniform; total time=   0.0s\n",
      "[CV] END algorithm=ball_tree, n_neighbors=12, weights=uniform; total time=   0.0s\n",
      "[CV] END algorithm=ball_tree, n_neighbors=12, weights=distance; total time=   0.0s\n",
      "[CV] END algorithm=ball_tree, n_neighbors=12, weights=distance; total time=   0.0s\n",
      "[CV] END algorithm=ball_tree, n_neighbors=12, weights=distance; total time=   0.0s\n",
      "[CV] END algorithm=ball_tree, n_neighbors=12, weights=distance; total time=   0.0s\n",
      "[CV] END algorithm=ball_tree, n_neighbors=12, weights=distance; total time=   0.0s\n",
      "[CV] END algorithm=ball_tree, n_neighbors=13, weights=uniform; total time=   0.0s\n",
      "[CV] END algorithm=ball_tree, n_neighbors=13, weights=uniform; total time=   0.0s\n",
      "[CV] END algorithm=ball_tree, n_neighbors=13, weights=uniform; total time=   0.0s\n",
      "[CV] END algorithm=ball_tree, n_neighbors=13, weights=uniform; total time=   0.0s\n",
      "[CV] END algorithm=ball_tree, n_neighbors=13, weights=uniform; total time=   0.0s\n",
      "[CV] END algorithm=ball_tree, n_neighbors=13, weights=distance; total time=   0.0s\n",
      "[CV] END algorithm=ball_tree, n_neighbors=13, weights=distance; total time=   0.0s\n",
      "[CV] END algorithm=ball_tree, n_neighbors=13, weights=distance; total time=   0.0s\n",
      "[CV] END algorithm=ball_tree, n_neighbors=13, weights=distance; total time=   0.0s\n",
      "[CV] END algorithm=ball_tree, n_neighbors=13, weights=distance; total time=   0.0s\n",
      "[CV] END algorithm=ball_tree, n_neighbors=14, weights=uniform; total time=   0.0s\n",
      "[CV] END algorithm=ball_tree, n_neighbors=14, weights=uniform; total time=   0.0s\n",
      "[CV] END algorithm=ball_tree, n_neighbors=14, weights=uniform; total time=   0.0s\n",
      "[CV] END algorithm=ball_tree, n_neighbors=14, weights=uniform; total time=   0.0s\n",
      "[CV] END algorithm=ball_tree, n_neighbors=14, weights=uniform; total time=   0.0s\n",
      "[CV] END algorithm=ball_tree, n_neighbors=14, weights=distance; total time=   0.0s\n",
      "[CV] END algorithm=ball_tree, n_neighbors=14, weights=distance; total time=   0.0s\n",
      "[CV] END algorithm=ball_tree, n_neighbors=14, weights=distance; total time=   0.0s\n",
      "[CV] END algorithm=ball_tree, n_neighbors=14, weights=distance; total time=   0.0s\n",
      "[CV] END algorithm=ball_tree, n_neighbors=14, weights=distance; total time=   0.0s\n",
      "[CV] END algorithm=ball_tree, n_neighbors=15, weights=uniform; total time=   0.0s\n",
      "[CV] END algorithm=ball_tree, n_neighbors=15, weights=uniform; total time=   0.0s\n",
      "[CV] END algorithm=ball_tree, n_neighbors=15, weights=uniform; total time=   0.0s\n",
      "[CV] END algorithm=ball_tree, n_neighbors=15, weights=uniform; total time=   0.0s\n",
      "[CV] END algorithm=ball_tree, n_neighbors=15, weights=uniform; total time=   0.0s\n",
      "[CV] END algorithm=ball_tree, n_neighbors=15, weights=distance; total time=   0.0s\n",
      "[CV] END algorithm=ball_tree, n_neighbors=15, weights=distance; total time=   0.0s\n",
      "[CV] END algorithm=ball_tree, n_neighbors=15, weights=distance; total time=   0.0s\n",
      "[CV] END algorithm=ball_tree, n_neighbors=15, weights=distance; total time=   0.0s\n",
      "[CV] END algorithm=ball_tree, n_neighbors=15, weights=distance; total time=   0.0s\n",
      "[CV] END algorithm=ball_tree, n_neighbors=16, weights=uniform; total time=   0.0s\n",
      "[CV] END algorithm=ball_tree, n_neighbors=16, weights=uniform; total time=   0.0s\n",
      "[CV] END algorithm=ball_tree, n_neighbors=16, weights=uniform; total time=   0.0s\n",
      "[CV] END algorithm=ball_tree, n_neighbors=16, weights=uniform; total time=   0.0s\n",
      "[CV] END algorithm=ball_tree, n_neighbors=16, weights=uniform; total time=   0.0s\n",
      "[CV] END algorithm=ball_tree, n_neighbors=16, weights=distance; total time=   0.0s\n",
      "[CV] END algorithm=ball_tree, n_neighbors=16, weights=distance; total time=   0.0s\n",
      "[CV] END algorithm=ball_tree, n_neighbors=16, weights=distance; total time=   0.0s\n",
      "[CV] END algorithm=ball_tree, n_neighbors=16, weights=distance; total time=   0.0s\n",
      "[CV] END algorithm=ball_tree, n_neighbors=16, weights=distance; total time=   0.0s\n",
      "[CV] END algorithm=ball_tree, n_neighbors=17, weights=uniform; total time=   0.0s\n",
      "[CV] END algorithm=ball_tree, n_neighbors=17, weights=uniform; total time=   0.0s\n",
      "[CV] END algorithm=ball_tree, n_neighbors=17, weights=uniform; total time=   0.0s\n",
      "[CV] END algorithm=ball_tree, n_neighbors=17, weights=uniform; total time=   0.0s\n",
      "[CV] END algorithm=ball_tree, n_neighbors=17, weights=uniform; total time=   0.0s\n",
      "[CV] END algorithm=ball_tree, n_neighbors=17, weights=distance; total time=   0.0s\n",
      "[CV] END algorithm=ball_tree, n_neighbors=17, weights=distance; total time=   0.0s\n",
      "[CV] END algorithm=ball_tree, n_neighbors=17, weights=distance; total time=   0.0s\n",
      "[CV] END algorithm=ball_tree, n_neighbors=17, weights=distance; total time=   0.0s\n",
      "[CV] END algorithm=ball_tree, n_neighbors=17, weights=distance; total time=   0.0s\n",
      "[CV] END algorithm=ball_tree, n_neighbors=18, weights=uniform; total time=   0.0s\n",
      "[CV] END algorithm=ball_tree, n_neighbors=18, weights=uniform; total time=   0.0s\n",
      "[CV] END algorithm=ball_tree, n_neighbors=18, weights=uniform; total time=   0.0s\n",
      "[CV] END algorithm=ball_tree, n_neighbors=18, weights=uniform; total time=   0.0s\n",
      "[CV] END algorithm=ball_tree, n_neighbors=18, weights=uniform; total time=   0.0s\n",
      "[CV] END algorithm=ball_tree, n_neighbors=18, weights=distance; total time=   0.0s\n",
      "[CV] END algorithm=ball_tree, n_neighbors=18, weights=distance; total time=   0.0s\n",
      "[CV] END algorithm=ball_tree, n_neighbors=18, weights=distance; total time=   0.0s\n",
      "[CV] END algorithm=ball_tree, n_neighbors=18, weights=distance; total time=   0.0s\n",
      "[CV] END algorithm=ball_tree, n_neighbors=18, weights=distance; total time=   0.0s\n",
      "[CV] END algorithm=ball_tree, n_neighbors=19, weights=uniform; total time=   0.0s\n",
      "[CV] END algorithm=ball_tree, n_neighbors=19, weights=uniform; total time=   0.0s\n",
      "[CV] END algorithm=ball_tree, n_neighbors=19, weights=uniform; total time=   0.0s\n",
      "[CV] END algorithm=ball_tree, n_neighbors=19, weights=uniform; total time=   0.0s\n",
      "[CV] END algorithm=ball_tree, n_neighbors=19, weights=uniform; total time=   0.0s\n",
      "[CV] END algorithm=ball_tree, n_neighbors=19, weights=distance; total time=   0.0s\n",
      "[CV] END algorithm=ball_tree, n_neighbors=19, weights=distance; total time=   0.0s\n",
      "[CV] END algorithm=ball_tree, n_neighbors=19, weights=distance; total time=   0.0s\n",
      "[CV] END algorithm=ball_tree, n_neighbors=19, weights=distance; total time=   0.0s\n",
      "[CV] END algorithm=ball_tree, n_neighbors=19, weights=distance; total time=   0.0s\n",
      "[CV] END algorithm=ball_tree, n_neighbors=20, weights=uniform; total time=   0.0s\n",
      "[CV] END algorithm=ball_tree, n_neighbors=20, weights=uniform; total time=   0.0s\n",
      "[CV] END algorithm=ball_tree, n_neighbors=20, weights=uniform; total time=   0.0s\n",
      "[CV] END algorithm=ball_tree, n_neighbors=20, weights=uniform; total time=   0.0s\n",
      "[CV] END algorithm=ball_tree, n_neighbors=20, weights=uniform; total time=   0.0s\n",
      "[CV] END algorithm=ball_tree, n_neighbors=20, weights=distance; total time=   0.0s\n",
      "[CV] END algorithm=ball_tree, n_neighbors=20, weights=distance; total time=   0.0s\n",
      "[CV] END algorithm=ball_tree, n_neighbors=20, weights=distance; total time=   0.0s\n",
      "[CV] END algorithm=ball_tree, n_neighbors=20, weights=distance; total time=   0.0s\n",
      "[CV] END algorithm=ball_tree, n_neighbors=20, weights=distance; total time=   0.0s\n",
      "[CV] END ..algorithm=kd_tree, n_neighbors=1, weights=uniform; total time=   0.0s\n",
      "[CV] END ..algorithm=kd_tree, n_neighbors=1, weights=uniform; total time=   0.0s\n",
      "[CV] END ..algorithm=kd_tree, n_neighbors=1, weights=uniform; total time=   0.0s\n",
      "[CV] END ..algorithm=kd_tree, n_neighbors=1, weights=uniform; total time=   0.0s\n",
      "[CV] END ..algorithm=kd_tree, n_neighbors=1, weights=uniform; total time=   0.0s\n",
      "[CV] END .algorithm=kd_tree, n_neighbors=1, weights=distance; total time=   0.0s\n",
      "[CV] END .algorithm=kd_tree, n_neighbors=1, weights=distance; total time=   0.0s\n",
      "[CV] END .algorithm=kd_tree, n_neighbors=1, weights=distance; total time=   0.0s\n",
      "[CV] END .algorithm=kd_tree, n_neighbors=1, weights=distance; total time=   0.0s\n",
      "[CV] END .algorithm=kd_tree, n_neighbors=1, weights=distance; total time=   0.0s\n",
      "[CV] END ..algorithm=kd_tree, n_neighbors=2, weights=uniform; total time=   0.0s\n",
      "[CV] END ..algorithm=kd_tree, n_neighbors=2, weights=uniform; total time=   0.0s\n",
      "[CV] END ..algorithm=kd_tree, n_neighbors=2, weights=uniform; total time=   0.0s\n",
      "[CV] END ..algorithm=kd_tree, n_neighbors=2, weights=uniform; total time=   0.0s\n",
      "[CV] END ..algorithm=kd_tree, n_neighbors=2, weights=uniform; total time=   0.0s\n",
      "[CV] END .algorithm=kd_tree, n_neighbors=2, weights=distance; total time=   0.0s\n",
      "[CV] END .algorithm=kd_tree, n_neighbors=2, weights=distance; total time=   0.0s\n",
      "[CV] END .algorithm=kd_tree, n_neighbors=2, weights=distance; total time=   0.0s\n",
      "[CV] END .algorithm=kd_tree, n_neighbors=2, weights=distance; total time=   0.0s\n",
      "[CV] END .algorithm=kd_tree, n_neighbors=2, weights=distance; total time=   0.0s\n",
      "[CV] END ..algorithm=kd_tree, n_neighbors=3, weights=uniform; total time=   0.0s\n",
      "[CV] END ..algorithm=kd_tree, n_neighbors=3, weights=uniform; total time=   0.0s\n",
      "[CV] END ..algorithm=kd_tree, n_neighbors=3, weights=uniform; total time=   0.0s\n",
      "[CV] END ..algorithm=kd_tree, n_neighbors=3, weights=uniform; total time=   0.0s\n",
      "[CV] END ..algorithm=kd_tree, n_neighbors=3, weights=uniform; total time=   0.0s\n",
      "[CV] END .algorithm=kd_tree, n_neighbors=3, weights=distance; total time=   0.0s\n",
      "[CV] END .algorithm=kd_tree, n_neighbors=3, weights=distance; total time=   0.0s\n",
      "[CV] END .algorithm=kd_tree, n_neighbors=3, weights=distance; total time=   0.0s\n",
      "[CV] END .algorithm=kd_tree, n_neighbors=3, weights=distance; total time=   0.0s\n",
      "[CV] END .algorithm=kd_tree, n_neighbors=3, weights=distance; total time=   0.0s\n",
      "[CV] END ..algorithm=kd_tree, n_neighbors=4, weights=uniform; total time=   0.0s\n",
      "[CV] END ..algorithm=kd_tree, n_neighbors=4, weights=uniform; total time=   0.0s\n",
      "[CV] END ..algorithm=kd_tree, n_neighbors=4, weights=uniform; total time=   0.0s\n",
      "[CV] END ..algorithm=kd_tree, n_neighbors=4, weights=uniform; total time=   0.0s\n",
      "[CV] END ..algorithm=kd_tree, n_neighbors=4, weights=uniform; total time=   0.0s\n",
      "[CV] END .algorithm=kd_tree, n_neighbors=4, weights=distance; total time=   0.0s\n",
      "[CV] END .algorithm=kd_tree, n_neighbors=4, weights=distance; total time=   0.0s\n",
      "[CV] END .algorithm=kd_tree, n_neighbors=4, weights=distance; total time=   0.0s\n",
      "[CV] END .algorithm=kd_tree, n_neighbors=4, weights=distance; total time=   0.0s\n",
      "[CV] END .algorithm=kd_tree, n_neighbors=4, weights=distance; total time=   0.0s\n",
      "[CV] END ..algorithm=kd_tree, n_neighbors=5, weights=uniform; total time=   0.0s\n",
      "[CV] END ..algorithm=kd_tree, n_neighbors=5, weights=uniform; total time=   0.0s\n",
      "[CV] END ..algorithm=kd_tree, n_neighbors=5, weights=uniform; total time=   0.0s\n",
      "[CV] END ..algorithm=kd_tree, n_neighbors=5, weights=uniform; total time=   0.0s\n",
      "[CV] END ..algorithm=kd_tree, n_neighbors=5, weights=uniform; total time=   0.0s\n",
      "[CV] END .algorithm=kd_tree, n_neighbors=5, weights=distance; total time=   0.0s\n",
      "[CV] END .algorithm=kd_tree, n_neighbors=5, weights=distance; total time=   0.0s\n",
      "[CV] END .algorithm=kd_tree, n_neighbors=5, weights=distance; total time=   0.0s\n",
      "[CV] END .algorithm=kd_tree, n_neighbors=5, weights=distance; total time=   0.0s\n",
      "[CV] END .algorithm=kd_tree, n_neighbors=5, weights=distance; total time=   0.0s\n",
      "[CV] END ..algorithm=kd_tree, n_neighbors=6, weights=uniform; total time=   0.0s\n",
      "[CV] END ..algorithm=kd_tree, n_neighbors=6, weights=uniform; total time=   0.0s\n",
      "[CV] END ..algorithm=kd_tree, n_neighbors=6, weights=uniform; total time=   0.0s\n",
      "[CV] END ..algorithm=kd_tree, n_neighbors=6, weights=uniform; total time=   0.0s\n",
      "[CV] END ..algorithm=kd_tree, n_neighbors=6, weights=uniform; total time=   0.0s\n",
      "[CV] END .algorithm=kd_tree, n_neighbors=6, weights=distance; total time=   0.0s\n",
      "[CV] END .algorithm=kd_tree, n_neighbors=6, weights=distance; total time=   0.0s\n",
      "[CV] END .algorithm=kd_tree, n_neighbors=6, weights=distance; total time=   0.0s\n",
      "[CV] END .algorithm=kd_tree, n_neighbors=6, weights=distance; total time=   0.0s\n",
      "[CV] END .algorithm=kd_tree, n_neighbors=6, weights=distance; total time=   0.0s\n",
      "[CV] END ..algorithm=kd_tree, n_neighbors=7, weights=uniform; total time=   0.0s\n",
      "[CV] END ..algorithm=kd_tree, n_neighbors=7, weights=uniform; total time=   0.0s\n",
      "[CV] END ..algorithm=kd_tree, n_neighbors=7, weights=uniform; total time=   0.0s\n",
      "[CV] END ..algorithm=kd_tree, n_neighbors=7, weights=uniform; total time=   0.0s\n",
      "[CV] END ..algorithm=kd_tree, n_neighbors=7, weights=uniform; total time=   0.0s\n",
      "[CV] END .algorithm=kd_tree, n_neighbors=7, weights=distance; total time=   0.0s\n",
      "[CV] END .algorithm=kd_tree, n_neighbors=7, weights=distance; total time=   0.0s\n",
      "[CV] END .algorithm=kd_tree, n_neighbors=7, weights=distance; total time=   0.0s\n",
      "[CV] END .algorithm=kd_tree, n_neighbors=7, weights=distance; total time=   0.0s\n",
      "[CV] END .algorithm=kd_tree, n_neighbors=7, weights=distance; total time=   0.0s\n",
      "[CV] END ..algorithm=kd_tree, n_neighbors=8, weights=uniform; total time=   0.0s\n",
      "[CV] END ..algorithm=kd_tree, n_neighbors=8, weights=uniform; total time=   0.0s\n",
      "[CV] END ..algorithm=kd_tree, n_neighbors=8, weights=uniform; total time=   0.0s\n",
      "[CV] END ..algorithm=kd_tree, n_neighbors=8, weights=uniform; total time=   0.0s\n",
      "[CV] END ..algorithm=kd_tree, n_neighbors=8, weights=uniform; total time=   0.0s\n",
      "[CV] END .algorithm=kd_tree, n_neighbors=8, weights=distance; total time=   0.0s\n",
      "[CV] END .algorithm=kd_tree, n_neighbors=8, weights=distance; total time=   0.0s\n",
      "[CV] END .algorithm=kd_tree, n_neighbors=8, weights=distance; total time=   0.0s\n",
      "[CV] END .algorithm=kd_tree, n_neighbors=8, weights=distance; total time=   0.0s\n",
      "[CV] END .algorithm=kd_tree, n_neighbors=8, weights=distance; total time=   0.0s\n",
      "[CV] END ..algorithm=kd_tree, n_neighbors=9, weights=uniform; total time=   0.0s\n",
      "[CV] END ..algorithm=kd_tree, n_neighbors=9, weights=uniform; total time=   0.0s\n",
      "[CV] END ..algorithm=kd_tree, n_neighbors=9, weights=uniform; total time=   0.0s\n",
      "[CV] END ..algorithm=kd_tree, n_neighbors=9, weights=uniform; total time=   0.0s\n",
      "[CV] END ..algorithm=kd_tree, n_neighbors=9, weights=uniform; total time=   0.0s\n",
      "[CV] END .algorithm=kd_tree, n_neighbors=9, weights=distance; total time=   0.0s\n",
      "[CV] END .algorithm=kd_tree, n_neighbors=9, weights=distance; total time=   0.0s\n",
      "[CV] END .algorithm=kd_tree, n_neighbors=9, weights=distance; total time=   0.0s\n",
      "[CV] END .algorithm=kd_tree, n_neighbors=9, weights=distance; total time=   0.0s\n",
      "[CV] END .algorithm=kd_tree, n_neighbors=9, weights=distance; total time=   0.0s\n",
      "[CV] END .algorithm=kd_tree, n_neighbors=10, weights=uniform; total time=   0.0s\n",
      "[CV] END .algorithm=kd_tree, n_neighbors=10, weights=uniform; total time=   0.0s\n",
      "[CV] END .algorithm=kd_tree, n_neighbors=10, weights=uniform; total time=   0.0s\n",
      "[CV] END .algorithm=kd_tree, n_neighbors=10, weights=uniform; total time=   0.0s\n",
      "[CV] END .algorithm=kd_tree, n_neighbors=10, weights=uniform; total time=   0.0s\n",
      "[CV] END algorithm=kd_tree, n_neighbors=10, weights=distance; total time=   0.0s\n",
      "[CV] END algorithm=kd_tree, n_neighbors=10, weights=distance; total time=   0.0s\n",
      "[CV] END algorithm=kd_tree, n_neighbors=10, weights=distance; total time=   0.0s\n",
      "[CV] END algorithm=kd_tree, n_neighbors=10, weights=distance; total time=   0.0s\n",
      "[CV] END algorithm=kd_tree, n_neighbors=10, weights=distance; total time=   0.0s\n",
      "[CV] END .algorithm=kd_tree, n_neighbors=11, weights=uniform; total time=   0.0s\n",
      "[CV] END .algorithm=kd_tree, n_neighbors=11, weights=uniform; total time=   0.0s\n",
      "[CV] END .algorithm=kd_tree, n_neighbors=11, weights=uniform; total time=   0.0s\n",
      "[CV] END .algorithm=kd_tree, n_neighbors=11, weights=uniform; total time=   0.0s\n",
      "[CV] END .algorithm=kd_tree, n_neighbors=11, weights=uniform; total time=   0.0s\n",
      "[CV] END algorithm=kd_tree, n_neighbors=11, weights=distance; total time=   0.0s\n",
      "[CV] END algorithm=kd_tree, n_neighbors=11, weights=distance; total time=   0.0s\n",
      "[CV] END algorithm=kd_tree, n_neighbors=11, weights=distance; total time=   0.0s\n",
      "[CV] END algorithm=kd_tree, n_neighbors=11, weights=distance; total time=   0.0s\n",
      "[CV] END algorithm=kd_tree, n_neighbors=11, weights=distance; total time=   0.0s\n",
      "[CV] END .algorithm=kd_tree, n_neighbors=12, weights=uniform; total time=   0.0s\n",
      "[CV] END .algorithm=kd_tree, n_neighbors=12, weights=uniform; total time=   0.0s\n",
      "[CV] END .algorithm=kd_tree, n_neighbors=12, weights=uniform; total time=   0.0s\n",
      "[CV] END .algorithm=kd_tree, n_neighbors=12, weights=uniform; total time=   0.0s\n",
      "[CV] END .algorithm=kd_tree, n_neighbors=12, weights=uniform; total time=   0.0s\n",
      "[CV] END algorithm=kd_tree, n_neighbors=12, weights=distance; total time=   0.0s\n",
      "[CV] END algorithm=kd_tree, n_neighbors=12, weights=distance; total time=   0.0s\n",
      "[CV] END algorithm=kd_tree, n_neighbors=12, weights=distance; total time=   0.0s\n",
      "[CV] END algorithm=kd_tree, n_neighbors=12, weights=distance; total time=   0.0s\n",
      "[CV] END algorithm=kd_tree, n_neighbors=12, weights=distance; total time=   0.0s\n",
      "[CV] END .algorithm=kd_tree, n_neighbors=13, weights=uniform; total time=   0.0s\n",
      "[CV] END .algorithm=kd_tree, n_neighbors=13, weights=uniform; total time=   0.0s\n",
      "[CV] END .algorithm=kd_tree, n_neighbors=13, weights=uniform; total time=   0.0s\n",
      "[CV] END .algorithm=kd_tree, n_neighbors=13, weights=uniform; total time=   0.0s\n",
      "[CV] END .algorithm=kd_tree, n_neighbors=13, weights=uniform; total time=   0.0s\n",
      "[CV] END algorithm=kd_tree, n_neighbors=13, weights=distance; total time=   0.0s\n",
      "[CV] END algorithm=kd_tree, n_neighbors=13, weights=distance; total time=   0.0s\n",
      "[CV] END algorithm=kd_tree, n_neighbors=13, weights=distance; total time=   0.0s\n",
      "[CV] END algorithm=kd_tree, n_neighbors=13, weights=distance; total time=   0.0s\n",
      "[CV] END algorithm=kd_tree, n_neighbors=13, weights=distance; total time=   0.0s\n",
      "[CV] END .algorithm=kd_tree, n_neighbors=14, weights=uniform; total time=   0.0s\n",
      "[CV] END .algorithm=kd_tree, n_neighbors=14, weights=uniform; total time=   0.0s\n",
      "[CV] END .algorithm=kd_tree, n_neighbors=14, weights=uniform; total time=   0.0s\n",
      "[CV] END .algorithm=kd_tree, n_neighbors=14, weights=uniform; total time=   0.0s\n",
      "[CV] END .algorithm=kd_tree, n_neighbors=14, weights=uniform; total time=   0.0s\n",
      "[CV] END algorithm=kd_tree, n_neighbors=14, weights=distance; total time=   0.0s\n",
      "[CV] END algorithm=kd_tree, n_neighbors=14, weights=distance; total time=   0.0s\n",
      "[CV] END algorithm=kd_tree, n_neighbors=14, weights=distance; total time=   0.0s\n",
      "[CV] END algorithm=kd_tree, n_neighbors=14, weights=distance; total time=   0.0s\n",
      "[CV] END algorithm=kd_tree, n_neighbors=14, weights=distance; total time=   0.0s\n",
      "[CV] END .algorithm=kd_tree, n_neighbors=15, weights=uniform; total time=   0.0s\n",
      "[CV] END .algorithm=kd_tree, n_neighbors=15, weights=uniform; total time=   0.0s\n",
      "[CV] END .algorithm=kd_tree, n_neighbors=15, weights=uniform; total time=   0.0s\n",
      "[CV] END .algorithm=kd_tree, n_neighbors=15, weights=uniform; total time=   0.0s\n",
      "[CV] END .algorithm=kd_tree, n_neighbors=15, weights=uniform; total time=   0.0s\n",
      "[CV] END algorithm=kd_tree, n_neighbors=15, weights=distance; total time=   0.0s\n",
      "[CV] END algorithm=kd_tree, n_neighbors=15, weights=distance; total time=   0.0s\n",
      "[CV] END algorithm=kd_tree, n_neighbors=15, weights=distance; total time=   0.0s\n",
      "[CV] END algorithm=kd_tree, n_neighbors=15, weights=distance; total time=   0.0s\n",
      "[CV] END algorithm=kd_tree, n_neighbors=15, weights=distance; total time=   0.0s\n",
      "[CV] END .algorithm=kd_tree, n_neighbors=16, weights=uniform; total time=   0.0s\n",
      "[CV] END .algorithm=kd_tree, n_neighbors=16, weights=uniform; total time=   0.0s\n",
      "[CV] END .algorithm=kd_tree, n_neighbors=16, weights=uniform; total time=   0.0s\n",
      "[CV] END .algorithm=kd_tree, n_neighbors=16, weights=uniform; total time=   0.0s\n",
      "[CV] END .algorithm=kd_tree, n_neighbors=16, weights=uniform; total time=   0.0s\n",
      "[CV] END algorithm=kd_tree, n_neighbors=16, weights=distance; total time=   0.0s\n",
      "[CV] END algorithm=kd_tree, n_neighbors=16, weights=distance; total time=   0.0s\n",
      "[CV] END algorithm=kd_tree, n_neighbors=16, weights=distance; total time=   0.0s\n",
      "[CV] END algorithm=kd_tree, n_neighbors=16, weights=distance; total time=   0.0s\n",
      "[CV] END algorithm=kd_tree, n_neighbors=16, weights=distance; total time=   0.0s\n",
      "[CV] END .algorithm=kd_tree, n_neighbors=17, weights=uniform; total time=   0.0s\n",
      "[CV] END .algorithm=kd_tree, n_neighbors=17, weights=uniform; total time=   0.0s\n",
      "[CV] END .algorithm=kd_tree, n_neighbors=17, weights=uniform; total time=   0.0s\n",
      "[CV] END .algorithm=kd_tree, n_neighbors=17, weights=uniform; total time=   0.0s\n",
      "[CV] END .algorithm=kd_tree, n_neighbors=17, weights=uniform; total time=   0.0s\n",
      "[CV] END algorithm=kd_tree, n_neighbors=17, weights=distance; total time=   0.0s\n",
      "[CV] END algorithm=kd_tree, n_neighbors=17, weights=distance; total time=   0.0s\n",
      "[CV] END algorithm=kd_tree, n_neighbors=17, weights=distance; total time=   0.0s\n",
      "[CV] END algorithm=kd_tree, n_neighbors=17, weights=distance; total time=   0.0s\n",
      "[CV] END algorithm=kd_tree, n_neighbors=17, weights=distance; total time=   0.0s\n",
      "[CV] END .algorithm=kd_tree, n_neighbors=18, weights=uniform; total time=   0.0s\n",
      "[CV] END .algorithm=kd_tree, n_neighbors=18, weights=uniform; total time=   0.0s\n",
      "[CV] END .algorithm=kd_tree, n_neighbors=18, weights=uniform; total time=   0.0s\n",
      "[CV] END .algorithm=kd_tree, n_neighbors=18, weights=uniform; total time=   0.0s\n",
      "[CV] END .algorithm=kd_tree, n_neighbors=18, weights=uniform; total time=   0.0s\n",
      "[CV] END algorithm=kd_tree, n_neighbors=18, weights=distance; total time=   0.0s\n",
      "[CV] END algorithm=kd_tree, n_neighbors=18, weights=distance; total time=   0.0s\n",
      "[CV] END algorithm=kd_tree, n_neighbors=18, weights=distance; total time=   0.0s\n",
      "[CV] END algorithm=kd_tree, n_neighbors=18, weights=distance; total time=   0.0s\n",
      "[CV] END algorithm=kd_tree, n_neighbors=18, weights=distance; total time=   0.0s\n",
      "[CV] END .algorithm=kd_tree, n_neighbors=19, weights=uniform; total time=   0.0s\n",
      "[CV] END .algorithm=kd_tree, n_neighbors=19, weights=uniform; total time=   0.0s\n",
      "[CV] END .algorithm=kd_tree, n_neighbors=19, weights=uniform; total time=   0.0s\n",
      "[CV] END .algorithm=kd_tree, n_neighbors=19, weights=uniform; total time=   0.0s\n",
      "[CV] END .algorithm=kd_tree, n_neighbors=19, weights=uniform; total time=   0.0s\n",
      "[CV] END algorithm=kd_tree, n_neighbors=19, weights=distance; total time=   0.0s\n",
      "[CV] END algorithm=kd_tree, n_neighbors=19, weights=distance; total time=   0.0s\n",
      "[CV] END algorithm=kd_tree, n_neighbors=19, weights=distance; total time=   0.0s\n",
      "[CV] END algorithm=kd_tree, n_neighbors=19, weights=distance; total time=   0.0s\n",
      "[CV] END algorithm=kd_tree, n_neighbors=19, weights=distance; total time=   0.0s\n",
      "[CV] END .algorithm=kd_tree, n_neighbors=20, weights=uniform; total time=   0.0s\n",
      "[CV] END .algorithm=kd_tree, n_neighbors=20, weights=uniform; total time=   0.0s\n",
      "[CV] END .algorithm=kd_tree, n_neighbors=20, weights=uniform; total time=   0.0s\n",
      "[CV] END .algorithm=kd_tree, n_neighbors=20, weights=uniform; total time=   0.0s\n",
      "[CV] END .algorithm=kd_tree, n_neighbors=20, weights=uniform; total time=   0.0s\n",
      "[CV] END algorithm=kd_tree, n_neighbors=20, weights=distance; total time=   0.0s\n",
      "[CV] END algorithm=kd_tree, n_neighbors=20, weights=distance; total time=   0.0s\n",
      "[CV] END algorithm=kd_tree, n_neighbors=20, weights=distance; total time=   0.0s\n",
      "[CV] END algorithm=kd_tree, n_neighbors=20, weights=distance; total time=   0.0s\n",
      "[CV] END algorithm=kd_tree, n_neighbors=20, weights=distance; total time=   0.0s\n",
      "[CV] END ....algorithm=brute, n_neighbors=1, weights=uniform; total time=   0.0s\n",
      "[CV] END ....algorithm=brute, n_neighbors=1, weights=uniform; total time=   0.0s\n",
      "[CV] END ....algorithm=brute, n_neighbors=1, weights=uniform; total time=   0.0s\n",
      "[CV] END ....algorithm=brute, n_neighbors=1, weights=uniform; total time=   0.0s\n",
      "[CV] END ....algorithm=brute, n_neighbors=1, weights=uniform; total time=   0.0s\n",
      "[CV] END ...algorithm=brute, n_neighbors=1, weights=distance; total time=   0.0s\n",
      "[CV] END ...algorithm=brute, n_neighbors=1, weights=distance; total time=   0.0s\n",
      "[CV] END ...algorithm=brute, n_neighbors=1, weights=distance; total time=   0.0s\n",
      "[CV] END ...algorithm=brute, n_neighbors=1, weights=distance; total time=   0.0s\n",
      "[CV] END ...algorithm=brute, n_neighbors=1, weights=distance; total time=   0.0s\n",
      "[CV] END ....algorithm=brute, n_neighbors=2, weights=uniform; total time=   0.0s\n",
      "[CV] END ....algorithm=brute, n_neighbors=2, weights=uniform; total time=   0.0s\n",
      "[CV] END ....algorithm=brute, n_neighbors=2, weights=uniform; total time=   0.0s\n",
      "[CV] END ....algorithm=brute, n_neighbors=2, weights=uniform; total time=   0.0s\n",
      "[CV] END ....algorithm=brute, n_neighbors=2, weights=uniform; total time=   0.0s\n",
      "[CV] END ...algorithm=brute, n_neighbors=2, weights=distance; total time=   0.0s\n",
      "[CV] END ...algorithm=brute, n_neighbors=2, weights=distance; total time=   0.0s\n",
      "[CV] END ...algorithm=brute, n_neighbors=2, weights=distance; total time=   0.0s\n",
      "[CV] END ...algorithm=brute, n_neighbors=2, weights=distance; total time=   0.0s\n",
      "[CV] END ...algorithm=brute, n_neighbors=2, weights=distance; total time=   0.0s\n",
      "[CV] END ....algorithm=brute, n_neighbors=3, weights=uniform; total time=   0.0s\n",
      "[CV] END ....algorithm=brute, n_neighbors=3, weights=uniform; total time=   0.0s\n",
      "[CV] END ....algorithm=brute, n_neighbors=3, weights=uniform; total time=   0.0s\n",
      "[CV] END ....algorithm=brute, n_neighbors=3, weights=uniform; total time=   0.0s\n",
      "[CV] END ....algorithm=brute, n_neighbors=3, weights=uniform; total time=   0.0s\n",
      "[CV] END ...algorithm=brute, n_neighbors=3, weights=distance; total time=   0.0s\n",
      "[CV] END ...algorithm=brute, n_neighbors=3, weights=distance; total time=   0.0s\n",
      "[CV] END ...algorithm=brute, n_neighbors=3, weights=distance; total time=   0.0s\n",
      "[CV] END ...algorithm=brute, n_neighbors=3, weights=distance; total time=   0.0s\n",
      "[CV] END ...algorithm=brute, n_neighbors=3, weights=distance; total time=   0.0s\n",
      "[CV] END ....algorithm=brute, n_neighbors=4, weights=uniform; total time=   0.0s\n",
      "[CV] END ....algorithm=brute, n_neighbors=4, weights=uniform; total time=   0.0s\n",
      "[CV] END ....algorithm=brute, n_neighbors=4, weights=uniform; total time=   0.0s\n",
      "[CV] END ....algorithm=brute, n_neighbors=4, weights=uniform; total time=   0.0s\n",
      "[CV] END ....algorithm=brute, n_neighbors=4, weights=uniform; total time=   0.0s\n",
      "[CV] END ...algorithm=brute, n_neighbors=4, weights=distance; total time=   0.0s\n",
      "[CV] END ...algorithm=brute, n_neighbors=4, weights=distance; total time=   0.0s\n",
      "[CV] END ...algorithm=brute, n_neighbors=4, weights=distance; total time=   0.0s\n",
      "[CV] END ...algorithm=brute, n_neighbors=4, weights=distance; total time=   0.0s\n",
      "[CV] END ...algorithm=brute, n_neighbors=4, weights=distance; total time=   0.0s\n",
      "[CV] END ....algorithm=brute, n_neighbors=5, weights=uniform; total time=   0.0s\n",
      "[CV] END ....algorithm=brute, n_neighbors=5, weights=uniform; total time=   0.0s\n",
      "[CV] END ....algorithm=brute, n_neighbors=5, weights=uniform; total time=   0.0s\n",
      "[CV] END ....algorithm=brute, n_neighbors=5, weights=uniform; total time=   0.0s\n",
      "[CV] END ....algorithm=brute, n_neighbors=5, weights=uniform; total time=   0.0s\n",
      "[CV] END ...algorithm=brute, n_neighbors=5, weights=distance; total time=   0.0s\n",
      "[CV] END ...algorithm=brute, n_neighbors=5, weights=distance; total time=   0.0s\n",
      "[CV] END ...algorithm=brute, n_neighbors=5, weights=distance; total time=   0.0s\n",
      "[CV] END ...algorithm=brute, n_neighbors=5, weights=distance; total time=   0.0s\n",
      "[CV] END ...algorithm=brute, n_neighbors=5, weights=distance; total time=   0.0s\n",
      "[CV] END ....algorithm=brute, n_neighbors=6, weights=uniform; total time=   0.0s\n",
      "[CV] END ....algorithm=brute, n_neighbors=6, weights=uniform; total time=   0.0s\n",
      "[CV] END ....algorithm=brute, n_neighbors=6, weights=uniform; total time=   0.0s\n",
      "[CV] END ....algorithm=brute, n_neighbors=6, weights=uniform; total time=   0.0s\n",
      "[CV] END ....algorithm=brute, n_neighbors=6, weights=uniform; total time=   0.0s\n",
      "[CV] END ...algorithm=brute, n_neighbors=6, weights=distance; total time=   0.0s\n",
      "[CV] END ...algorithm=brute, n_neighbors=6, weights=distance; total time=   0.0s\n",
      "[CV] END ...algorithm=brute, n_neighbors=6, weights=distance; total time=   0.0s\n",
      "[CV] END ...algorithm=brute, n_neighbors=6, weights=distance; total time=   0.0s\n",
      "[CV] END ...algorithm=brute, n_neighbors=6, weights=distance; total time=   0.0s\n",
      "[CV] END ....algorithm=brute, n_neighbors=7, weights=uniform; total time=   0.0s\n",
      "[CV] END ....algorithm=brute, n_neighbors=7, weights=uniform; total time=   0.0s\n",
      "[CV] END ....algorithm=brute, n_neighbors=7, weights=uniform; total time=   0.0s\n",
      "[CV] END ....algorithm=brute, n_neighbors=7, weights=uniform; total time=   0.0s\n",
      "[CV] END ....algorithm=brute, n_neighbors=7, weights=uniform; total time=   0.0s\n",
      "[CV] END ...algorithm=brute, n_neighbors=7, weights=distance; total time=   0.0s\n",
      "[CV] END ...algorithm=brute, n_neighbors=7, weights=distance; total time=   0.0s\n",
      "[CV] END ...algorithm=brute, n_neighbors=7, weights=distance; total time=   0.0s\n",
      "[CV] END ...algorithm=brute, n_neighbors=7, weights=distance; total time=   0.0s\n",
      "[CV] END ...algorithm=brute, n_neighbors=7, weights=distance; total time=   0.0s\n",
      "[CV] END ....algorithm=brute, n_neighbors=8, weights=uniform; total time=   0.0s\n",
      "[CV] END ....algorithm=brute, n_neighbors=8, weights=uniform; total time=   0.0s\n",
      "[CV] END ....algorithm=brute, n_neighbors=8, weights=uniform; total time=   0.0s\n",
      "[CV] END ....algorithm=brute, n_neighbors=8, weights=uniform; total time=   0.0s\n",
      "[CV] END ....algorithm=brute, n_neighbors=8, weights=uniform; total time=   0.0s\n",
      "[CV] END ...algorithm=brute, n_neighbors=8, weights=distance; total time=   0.0s\n",
      "[CV] END ...algorithm=brute, n_neighbors=8, weights=distance; total time=   0.0s\n",
      "[CV] END ...algorithm=brute, n_neighbors=8, weights=distance; total time=   0.0s\n",
      "[CV] END ...algorithm=brute, n_neighbors=8, weights=distance; total time=   0.0s\n",
      "[CV] END ...algorithm=brute, n_neighbors=8, weights=distance; total time=   0.0s\n",
      "[CV] END ....algorithm=brute, n_neighbors=9, weights=uniform; total time=   0.0s\n",
      "[CV] END ....algorithm=brute, n_neighbors=9, weights=uniform; total time=   0.0s\n",
      "[CV] END ....algorithm=brute, n_neighbors=9, weights=uniform; total time=   0.0s\n",
      "[CV] END ....algorithm=brute, n_neighbors=9, weights=uniform; total time=   0.0s\n",
      "[CV] END ....algorithm=brute, n_neighbors=9, weights=uniform; total time=   0.0s\n",
      "[CV] END ...algorithm=brute, n_neighbors=9, weights=distance; total time=   0.0s\n",
      "[CV] END ...algorithm=brute, n_neighbors=9, weights=distance; total time=   0.0s\n",
      "[CV] END ...algorithm=brute, n_neighbors=9, weights=distance; total time=   0.0s\n",
      "[CV] END ...algorithm=brute, n_neighbors=9, weights=distance; total time=   0.0s\n",
      "[CV] END ...algorithm=brute, n_neighbors=9, weights=distance; total time=   0.0s\n",
      "[CV] END ...algorithm=brute, n_neighbors=10, weights=uniform; total time=   0.0s\n",
      "[CV] END ...algorithm=brute, n_neighbors=10, weights=uniform; total time=   0.0s\n",
      "[CV] END ...algorithm=brute, n_neighbors=10, weights=uniform; total time=   0.0s\n",
      "[CV] END ...algorithm=brute, n_neighbors=10, weights=uniform; total time=   0.0s\n",
      "[CV] END ...algorithm=brute, n_neighbors=10, weights=uniform; total time=   0.0s\n",
      "[CV] END ..algorithm=brute, n_neighbors=10, weights=distance; total time=   0.0s\n",
      "[CV] END ..algorithm=brute, n_neighbors=10, weights=distance; total time=   0.0s\n",
      "[CV] END ..algorithm=brute, n_neighbors=10, weights=distance; total time=   0.0s\n",
      "[CV] END ..algorithm=brute, n_neighbors=10, weights=distance; total time=   0.0s\n",
      "[CV] END ..algorithm=brute, n_neighbors=10, weights=distance; total time=   0.0s\n",
      "[CV] END ...algorithm=brute, n_neighbors=11, weights=uniform; total time=   0.0s\n",
      "[CV] END ...algorithm=brute, n_neighbors=11, weights=uniform; total time=   0.0s\n",
      "[CV] END ...algorithm=brute, n_neighbors=11, weights=uniform; total time=   0.0s\n",
      "[CV] END ...algorithm=brute, n_neighbors=11, weights=uniform; total time=   0.0s\n",
      "[CV] END ...algorithm=brute, n_neighbors=11, weights=uniform; total time=   0.0s\n",
      "[CV] END ..algorithm=brute, n_neighbors=11, weights=distance; total time=   0.0s\n",
      "[CV] END ..algorithm=brute, n_neighbors=11, weights=distance; total time=   0.0s\n",
      "[CV] END ..algorithm=brute, n_neighbors=11, weights=distance; total time=   0.0s\n",
      "[CV] END ..algorithm=brute, n_neighbors=11, weights=distance; total time=   0.0s\n",
      "[CV] END ..algorithm=brute, n_neighbors=11, weights=distance; total time=   0.0s\n",
      "[CV] END ...algorithm=brute, n_neighbors=12, weights=uniform; total time=   0.0s\n",
      "[CV] END ...algorithm=brute, n_neighbors=12, weights=uniform; total time=   0.0s\n",
      "[CV] END ...algorithm=brute, n_neighbors=12, weights=uniform; total time=   0.0s\n",
      "[CV] END ...algorithm=brute, n_neighbors=12, weights=uniform; total time=   0.0s\n",
      "[CV] END ...algorithm=brute, n_neighbors=12, weights=uniform; total time=   0.0s\n",
      "[CV] END ..algorithm=brute, n_neighbors=12, weights=distance; total time=   0.0s\n",
      "[CV] END ..algorithm=brute, n_neighbors=12, weights=distance; total time=   0.0s\n",
      "[CV] END ..algorithm=brute, n_neighbors=12, weights=distance; total time=   0.0s\n",
      "[CV] END ..algorithm=brute, n_neighbors=12, weights=distance; total time=   0.0s\n",
      "[CV] END ..algorithm=brute, n_neighbors=12, weights=distance; total time=   0.0s\n",
      "[CV] END ...algorithm=brute, n_neighbors=13, weights=uniform; total time=   0.0s\n",
      "[CV] END ...algorithm=brute, n_neighbors=13, weights=uniform; total time=   0.0s\n",
      "[CV] END ...algorithm=brute, n_neighbors=13, weights=uniform; total time=   0.0s\n",
      "[CV] END ...algorithm=brute, n_neighbors=13, weights=uniform; total time=   0.0s\n",
      "[CV] END ...algorithm=brute, n_neighbors=13, weights=uniform; total time=   0.0s\n",
      "[CV] END ..algorithm=brute, n_neighbors=13, weights=distance; total time=   0.0s\n",
      "[CV] END ..algorithm=brute, n_neighbors=13, weights=distance; total time=   0.0s\n",
      "[CV] END ..algorithm=brute, n_neighbors=13, weights=distance; total time=   0.0s\n",
      "[CV] END ..algorithm=brute, n_neighbors=13, weights=distance; total time=   0.0s\n",
      "[CV] END ..algorithm=brute, n_neighbors=13, weights=distance; total time=   0.0s\n",
      "[CV] END ...algorithm=brute, n_neighbors=14, weights=uniform; total time=   0.0s\n",
      "[CV] END ...algorithm=brute, n_neighbors=14, weights=uniform; total time=   0.0s\n",
      "[CV] END ...algorithm=brute, n_neighbors=14, weights=uniform; total time=   0.0s\n",
      "[CV] END ...algorithm=brute, n_neighbors=14, weights=uniform; total time=   0.0s\n",
      "[CV] END ...algorithm=brute, n_neighbors=14, weights=uniform; total time=   0.0s\n",
      "[CV] END ..algorithm=brute, n_neighbors=14, weights=distance; total time=   0.0s\n",
      "[CV] END ..algorithm=brute, n_neighbors=14, weights=distance; total time=   0.0s\n",
      "[CV] END ..algorithm=brute, n_neighbors=14, weights=distance; total time=   0.0s\n",
      "[CV] END ..algorithm=brute, n_neighbors=14, weights=distance; total time=   0.0s\n",
      "[CV] END ..algorithm=brute, n_neighbors=14, weights=distance; total time=   0.0s\n",
      "[CV] END ...algorithm=brute, n_neighbors=15, weights=uniform; total time=   0.0s\n",
      "[CV] END ...algorithm=brute, n_neighbors=15, weights=uniform; total time=   0.0s\n",
      "[CV] END ...algorithm=brute, n_neighbors=15, weights=uniform; total time=   0.0s\n",
      "[CV] END ...algorithm=brute, n_neighbors=15, weights=uniform; total time=   0.0s\n",
      "[CV] END ...algorithm=brute, n_neighbors=15, weights=uniform; total time=   0.0s\n",
      "[CV] END ..algorithm=brute, n_neighbors=15, weights=distance; total time=   0.0s\n",
      "[CV] END ..algorithm=brute, n_neighbors=15, weights=distance; total time=   0.0s\n",
      "[CV] END ..algorithm=brute, n_neighbors=15, weights=distance; total time=   0.0s\n",
      "[CV] END ..algorithm=brute, n_neighbors=15, weights=distance; total time=   0.0s\n",
      "[CV] END ..algorithm=brute, n_neighbors=15, weights=distance; total time=   0.0s\n",
      "[CV] END ...algorithm=brute, n_neighbors=16, weights=uniform; total time=   0.0s\n",
      "[CV] END ...algorithm=brute, n_neighbors=16, weights=uniform; total time=   0.0s\n",
      "[CV] END ...algorithm=brute, n_neighbors=16, weights=uniform; total time=   0.0s\n",
      "[CV] END ...algorithm=brute, n_neighbors=16, weights=uniform; total time=   0.0s\n",
      "[CV] END ...algorithm=brute, n_neighbors=16, weights=uniform; total time=   0.0s\n",
      "[CV] END ..algorithm=brute, n_neighbors=16, weights=distance; total time=   0.0s\n",
      "[CV] END ..algorithm=brute, n_neighbors=16, weights=distance; total time=   0.0s\n",
      "[CV] END ..algorithm=brute, n_neighbors=16, weights=distance; total time=   0.0s\n",
      "[CV] END ..algorithm=brute, n_neighbors=16, weights=distance; total time=   0.0s\n",
      "[CV] END ..algorithm=brute, n_neighbors=16, weights=distance; total time=   0.0s\n",
      "[CV] END ...algorithm=brute, n_neighbors=17, weights=uniform; total time=   0.0s\n",
      "[CV] END ...algorithm=brute, n_neighbors=17, weights=uniform; total time=   0.0s\n",
      "[CV] END ...algorithm=brute, n_neighbors=17, weights=uniform; total time=   0.0s\n",
      "[CV] END ...algorithm=brute, n_neighbors=17, weights=uniform; total time=   0.0s\n",
      "[CV] END ...algorithm=brute, n_neighbors=17, weights=uniform; total time=   0.0s\n",
      "[CV] END ..algorithm=brute, n_neighbors=17, weights=distance; total time=   0.0s\n",
      "[CV] END ..algorithm=brute, n_neighbors=17, weights=distance; total time=   0.0s\n",
      "[CV] END ..algorithm=brute, n_neighbors=17, weights=distance; total time=   0.0s\n",
      "[CV] END ..algorithm=brute, n_neighbors=17, weights=distance; total time=   0.0s\n",
      "[CV] END ..algorithm=brute, n_neighbors=17, weights=distance; total time=   0.0s\n",
      "[CV] END ...algorithm=brute, n_neighbors=18, weights=uniform; total time=   0.0s\n",
      "[CV] END ...algorithm=brute, n_neighbors=18, weights=uniform; total time=   0.0s\n",
      "[CV] END ...algorithm=brute, n_neighbors=18, weights=uniform; total time=   0.0s\n",
      "[CV] END ...algorithm=brute, n_neighbors=18, weights=uniform; total time=   0.0s\n",
      "[CV] END ...algorithm=brute, n_neighbors=18, weights=uniform; total time=   0.0s\n",
      "[CV] END ..algorithm=brute, n_neighbors=18, weights=distance; total time=   0.0s\n",
      "[CV] END ..algorithm=brute, n_neighbors=18, weights=distance; total time=   0.0s\n",
      "[CV] END ..algorithm=brute, n_neighbors=18, weights=distance; total time=   0.0s\n",
      "[CV] END ..algorithm=brute, n_neighbors=18, weights=distance; total time=   0.0s\n",
      "[CV] END ..algorithm=brute, n_neighbors=18, weights=distance; total time=   0.0s\n",
      "[CV] END ...algorithm=brute, n_neighbors=19, weights=uniform; total time=   0.0s\n",
      "[CV] END ...algorithm=brute, n_neighbors=19, weights=uniform; total time=   0.0s\n",
      "[CV] END ...algorithm=brute, n_neighbors=19, weights=uniform; total time=   0.0s\n",
      "[CV] END ...algorithm=brute, n_neighbors=19, weights=uniform; total time=   0.0s\n",
      "[CV] END ...algorithm=brute, n_neighbors=19, weights=uniform; total time=   0.0s\n",
      "[CV] END ..algorithm=brute, n_neighbors=19, weights=distance; total time=   0.0s\n",
      "[CV] END ..algorithm=brute, n_neighbors=19, weights=distance; total time=   0.0s\n",
      "[CV] END ..algorithm=brute, n_neighbors=19, weights=distance; total time=   0.0s\n",
      "[CV] END ..algorithm=brute, n_neighbors=19, weights=distance; total time=   0.0s\n",
      "[CV] END ..algorithm=brute, n_neighbors=19, weights=distance; total time=   0.0s\n",
      "[CV] END ...algorithm=brute, n_neighbors=20, weights=uniform; total time=   0.0s\n",
      "[CV] END ...algorithm=brute, n_neighbors=20, weights=uniform; total time=   0.0s\n",
      "[CV] END ...algorithm=brute, n_neighbors=20, weights=uniform; total time=   0.0s\n",
      "[CV] END ...algorithm=brute, n_neighbors=20, weights=uniform; total time=   0.0s\n",
      "[CV] END ...algorithm=brute, n_neighbors=20, weights=uniform; total time=   0.0s\n",
      "[CV] END ..algorithm=brute, n_neighbors=20, weights=distance; total time=   0.0s\n",
      "[CV] END ..algorithm=brute, n_neighbors=20, weights=distance; total time=   0.0s\n",
      "[CV] END ..algorithm=brute, n_neighbors=20, weights=distance; total time=   0.0s\n",
      "[CV] END ..algorithm=brute, n_neighbors=20, weights=distance; total time=   0.0s\n",
      "[CV] END ..algorithm=brute, n_neighbors=20, weights=distance; total time=   0.0s\n"
     ]
    }
   ],
   "source": [
    "np.random.seed(42)\n",
    "\n",
    "#Split data into train and test set\n",
    "from sklearn.model_selection import train_test_split\n",
    "\n",
    "X_train, X_test, y_train, y_test = train_test_split(X, y, test_size=0.3)\n",
    "\n",
    "# Define model\n",
    "model_3_1 = KNeighborsClassifier(n_jobs = -1)\n",
    "\n",
    "# Setup RandomizedSearchCV\n",
    "gs_model_2_1 = GridSearchCV(estimator = model_3_1,\n",
    "                           param_grid = grid_knn,\n",
    "                           #n_iter = 10, #The number of models t try\n",
    "                           cv = 5,\n",
    "                           verbose = 2)\n",
    "#Fit Randomized model\n",
    "gs_model_2_1.fit(X_train, y_train);"
   ]
  },
  {
   "cell_type": "code",
   "execution_count": 59,
   "id": "6f03841f-2ad5-4204-bc4e-8969cc43ab72",
   "metadata": {},
   "outputs": [
    {
     "data": {
      "text/plain": [
       "{'algorithm': 'auto', 'n_neighbors': 19, 'weights': 'distance'}"
      ]
     },
     "execution_count": 59,
     "metadata": {},
     "output_type": "execute_result"
    }
   ],
   "source": [
    "gs_model_2_1.best_params_"
   ]
  },
  {
   "cell_type": "code",
   "execution_count": 60,
   "id": "7f46da40-8887-44a4-ae39-719f7b99dd02",
   "metadata": {},
   "outputs": [
    {
     "data": {
      "text/plain": [
       "array([[1340,   10],\n",
       "       [ 140,   10]], dtype=int64)"
      ]
     },
     "execution_count": 60,
     "metadata": {},
     "output_type": "execute_result"
    }
   ],
   "source": [
    "# To make prediction with the best hyperparameter and show matrix\n",
    "\n",
    "gs_model_2_1_y_preds = gs_model_2_1.predict(X_test)\n",
    "\n",
    "confusion_matrix(y_test, gs_model_2_1_y_preds)"
   ]
  },
  {
   "cell_type": "markdown",
   "id": "e53f72d9-2a92-4a85-97da-a369b4ab4df7",
   "metadata": {},
   "source": [
    "### on Naive Bayes Model"
   ]
  },
  {
   "cell_type": "code",
   "execution_count": 54,
   "id": "ad93a73c-dd74-4482-b83f-1d0519abe055",
   "metadata": {},
   "outputs": [],
   "source": [
    "grid_nb = {\n",
    "    'var_smoothing': np.logspace(0,-9, num=100)\n",
    "}"
   ]
  },
  {
   "cell_type": "code",
   "execution_count": 56,
   "id": "737bf7d5-945f-441f-8881-a4f6a9dbef9d",
   "metadata": {},
   "outputs": [
    {
     "name": "stdout",
     "output_type": "stream",
     "text": [
      "Fitting 5 folds for each of 10 candidates, totalling 50 fits\n",
      "[CV] END .................var_smoothing=0.002848035868435802; total time=   0.0s\n",
      "[CV] END .................var_smoothing=0.002848035868435802; total time=   0.0s\n",
      "[CV] END .................var_smoothing=0.002848035868435802; total time=   0.0s\n",
      "[CV] END .................var_smoothing=0.002848035868435802; total time=   0.0s\n",
      "[CV] END .................var_smoothing=0.002848035868435802; total time=   0.0s\n",
      "[CV] END ................var_smoothing=5.336699231206302e-08; total time=   0.0s\n",
      "[CV] END ................var_smoothing=5.336699231206302e-08; total time=   0.0s\n",
      "[CV] END ................var_smoothing=5.336699231206302e-08; total time=   0.0s\n",
      "[CV] END ................var_smoothing=5.336699231206302e-08; total time=   0.0s\n",
      "[CV] END ................var_smoothing=5.336699231206302e-08; total time=   0.0s\n",
      "[CV] END ................................var_smoothing=0.001; total time=   0.0s\n",
      "[CV] END ................................var_smoothing=0.001; total time=   0.0s\n",
      "[CV] END ................................var_smoothing=0.001; total time=   0.0s\n",
      "[CV] END ................................var_smoothing=0.001; total time=   0.0s\n",
      "[CV] END ................................var_smoothing=0.001; total time=   0.0s\n",
      "[CV] END ...................var_smoothing=0.0533669923120631; total time=   0.0s\n",
      "[CV] END ...................var_smoothing=0.0533669923120631; total time=   0.0s\n",
      "[CV] END ...................var_smoothing=0.0533669923120631; total time=   0.0s\n",
      "[CV] END ...................var_smoothing=0.0533669923120631; total time=   0.0s\n",
      "[CV] END ...................var_smoothing=0.0533669923120631; total time=   0.0s\n",
      "[CV] END ................var_smoothing=0.0003511191734215131; total time=   0.0s\n",
      "[CV] END ................var_smoothing=0.0003511191734215131; total time=   0.0s\n",
      "[CV] END ................var_smoothing=0.0003511191734215131; total time=   0.0s\n",
      "[CV] END ................var_smoothing=0.0003511191734215131; total time=   0.0s\n",
      "[CV] END ................var_smoothing=0.0003511191734215131; total time=   0.0s\n",
      "[CV] END ................var_smoothing=0.0023101297000831605; total time=   0.0s\n",
      "[CV] END ................var_smoothing=0.0023101297000831605; total time=   0.0s\n",
      "[CV] END ................var_smoothing=0.0023101297000831605; total time=   0.0s\n",
      "[CV] END ................var_smoothing=0.0023101297000831605; total time=   0.0s\n",
      "[CV] END ................var_smoothing=0.0023101297000831605; total time=   0.0s\n",
      "[CV] END ................var_smoothing=1.232846739442066e-07; total time=   0.0s\n",
      "[CV] END ................var_smoothing=1.232846739442066e-07; total time=   0.0s\n",
      "[CV] END ................var_smoothing=1.232846739442066e-07; total time=   0.0s\n",
      "[CV] END ................var_smoothing=1.232846739442066e-07; total time=   0.0s\n",
      "[CV] END ................var_smoothing=1.232846739442066e-07; total time=   0.0s\n",
      "[CV] END ...................var_smoothing=0.2848035868435802; total time=   0.0s\n",
      "[CV] END ...................var_smoothing=0.2848035868435802; total time=   0.0s\n",
      "[CV] END ...................var_smoothing=0.2848035868435802; total time=   0.0s\n",
      "[CV] END ...................var_smoothing=0.2848035868435802; total time=   0.0s\n",
      "[CV] END ...................var_smoothing=0.2848035868435802; total time=   0.0s\n",
      "[CV] END ................var_smoothing=8.111308307896872e-07; total time=   0.0s\n",
      "[CV] END ................var_smoothing=8.111308307896872e-07; total time=   0.0s\n",
      "[CV] END ................var_smoothing=8.111308307896872e-07; total time=   0.0s\n",
      "[CV] END ................var_smoothing=8.111308307896872e-07; total time=   0.0s\n",
      "[CV] END ................var_smoothing=8.111308307896872e-07; total time=   0.0s\n",
      "[CV] END ................var_smoothing=8.111308307896873e-06; total time=   0.0s\n",
      "[CV] END ................var_smoothing=8.111308307896873e-06; total time=   0.0s\n",
      "[CV] END ................var_smoothing=8.111308307896873e-06; total time=   0.0s\n",
      "[CV] END ................var_smoothing=8.111308307896873e-06; total time=   0.0s\n",
      "[CV] END ................var_smoothing=8.111308307896873e-06; total time=   0.0s\n"
     ]
    }
   ],
   "source": [
    "np.random.seed(42)\n",
    "\n",
    "#Split data into train and test set\n",
    "from sklearn.model_selection import train_test_split\n",
    "\n",
    "X_train, X_test, y_train, y_test = train_test_split(X, y, test_size=0.3)\n",
    "\n",
    "# Define model\n",
    "model_4_1 = GaussianNB()\n",
    "\n",
    "# Setup RandomizedSearchCV\n",
    "rs_model_4_1 = RandomizedSearchCV(estimator = model_4_1,\n",
    "                           param_distributions = grid_nb,\n",
    "                           n_iter = 10, #The number of models t try\n",
    "                           cv = 5,\n",
    "                           verbose = 2)\n",
    "#Fit Randomized model\n",
    "rs_model_4_1.fit(X_train, y_train);"
   ]
  },
  {
   "cell_type": "code",
   "execution_count": 61,
   "id": "693aee4b-beaf-4f18-bbef-0362546a16bc",
   "metadata": {},
   "outputs": [
    {
     "data": {
      "text/plain": [
       "{'var_smoothing': 0.0023101297000831605}"
      ]
     },
     "execution_count": 61,
     "metadata": {},
     "output_type": "execute_result"
    }
   ],
   "source": [
    "rs_model_4_1.best_params_"
   ]
  },
  {
   "cell_type": "code",
   "execution_count": 64,
   "id": "4242d372-84cb-4cec-a678-9e95531cf7aa",
   "metadata": {},
   "outputs": [
    {
     "data": {
      "text/plain": [
       "array([[1345,    5],\n",
       "       [ 142,    8]], dtype=int64)"
      ]
     },
     "execution_count": 64,
     "metadata": {},
     "output_type": "execute_result"
    }
   ],
   "source": [
    "# To make prediction with the best hyperparameter and show a matrix\n",
    "\n",
    "rs_model_4_1_y_preds = rs_model_4_1.predict(X_test)\n",
    "\n",
    "confusion_matrix(y_test, rs_model_4_1_y_preds)"
   ]
  },
  {
   "cell_type": "code",
   "execution_count": 65,
   "id": "6e71acd1-317b-4582-80f3-bcd54e4f4998",
   "metadata": {},
   "outputs": [
    {
     "data": {
      "image/png": "[encoded data removed]",
      "text/plain": [
       "<Figure size 640x480 with 2 Axes>"
      ]
     },
     "metadata": {},
     "output_type": "display_data"
    }
   ],
   "source": [
    "ConfusionMatrixDisplay.from_estimator(estimator = rs_model_4_1, X = X_test, y = y_test);"
   ]
  },
  {
   "cell_type": "code",
   "execution_count": null,
   "id": "e6a3d070-c9c5-415a-96a7-a088e4b75a5b",
   "metadata": {},
   "outputs": [],
   "source": []
  }
 ],
 "metadata": {
  "kernelspec": {
   "display_name": "Python 3 (ipykernel)",
   "language": "python",
   "name": "python3"
  },
  "language_info": {
   "codemirror_mode": {
    "name": "ipython",
    "version": 3
   },
   "file_extension": ".py",
   "mimetype": "text/x-python",
   "name": "python",
   "nbconvert_exporter": "python",
   "pygments_lexer": "ipython3",
   "version": "3.11.4"
  }
 },
 "nbformat": 4,
 "nbformat_minor": 5
}
